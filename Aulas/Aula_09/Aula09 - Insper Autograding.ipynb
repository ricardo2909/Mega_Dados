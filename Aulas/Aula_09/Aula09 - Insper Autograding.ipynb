{
 "cells": [
  {
   "cell_type": "markdown",
   "id": "eccb9973",
   "metadata": {},
   "source": [
    "# Insper Autograding\n",
    "\n",
    "Siga os passos deste notebook para realizar a instalação da biblioteca de correção de exercícios nos notebooks da disciplina de Megadados!\n",
    "\n",
    "## Instalação\n",
    "\n",
    "Vamos instalar a biblioteca:"
   ]
  },
  {
   "cell_type": "code",
   "execution_count": 1,
   "id": "f8da2455",
   "metadata": {},
   "outputs": [
    {
     "name": "stderr",
     "output_type": "stream",
     "text": [
      "WARNING: Skipping insperautograder as it is not installed.\n"
     ]
    },
    {
     "name": "stdout",
     "output_type": "stream",
     "text": [
      "Collecting git+https://github.com/macielcalebe/insperautograding.git\n",
      "  Cloning https://github.com/macielcalebe/insperautograding.git to c:\\users\\ricar\\appdata\\local\\temp\\pip-req-build-14s137ez\n",
      "  Resolved https://github.com/macielcalebe/insperautograding.git to commit 4a8520568b7d385f9dba29e6c359f43559603f6d\n",
      "  Preparing metadata (setup.py): started\n",
      "  Preparing metadata (setup.py): finished with status 'done'\n",
      "Collecting python-dotenv\n",
      "  Downloading python_dotenv-1.0.0-py3-none-any.whl (19 kB)\n",
      "Requirement already satisfied: requests in c:\\users\\ricar\\anaconda3\\lib\\site-packages (from insperautograder==0.1.0) (2.28.1)\n",
      "Requirement already satisfied: ipython in c:\\users\\ricar\\anaconda3\\lib\\site-packages (from insperautograder==0.1.0) (7.31.1)\n",
      "Requirement already satisfied: ipywidgets in c:\\users\\ricar\\anaconda3\\lib\\site-packages (from insperautograder==0.1.0) (7.6.5)\n",
      "Requirement already satisfied: prompt-toolkit!=3.0.0,!=3.0.1,<3.1.0,>=2.0.0 in c:\\users\\ricar\\anaconda3\\lib\\site-packages (from ipython->insperautograder==0.1.0) (3.0.20)\n",
      "Requirement already satisfied: decorator in c:\\users\\ricar\\anaconda3\\lib\\site-packages (from ipython->insperautograder==0.1.0) (5.1.1)\n",
      "Requirement already satisfied: pickleshare in c:\\users\\ricar\\anaconda3\\lib\\site-packages (from ipython->insperautograder==0.1.0) (0.7.5)\n",
      "Requirement already satisfied: setuptools>=18.5 in c:\\users\\ricar\\anaconda3\\lib\\site-packages (from ipython->insperautograder==0.1.0) (63.4.1)\n",
      "Requirement already satisfied: colorama in c:\\users\\ricar\\anaconda3\\lib\\site-packages (from ipython->insperautograder==0.1.0) (0.4.5)\n",
      "Requirement already satisfied: matplotlib-inline in c:\\users\\ricar\\anaconda3\\lib\\site-packages (from ipython->insperautograder==0.1.0) (0.1.6)\n",
      "Requirement already satisfied: pygments in c:\\users\\ricar\\anaconda3\\lib\\site-packages (from ipython->insperautograder==0.1.0) (2.11.2)\n",
      "Requirement already satisfied: jedi>=0.16 in c:\\users\\ricar\\anaconda3\\lib\\site-packages (from ipython->insperautograder==0.1.0) (0.18.1)\n",
      "Requirement already satisfied: traitlets>=4.2 in c:\\users\\ricar\\anaconda3\\lib\\site-packages (from ipython->insperautograder==0.1.0) (5.1.1)\n",
      "Requirement already satisfied: backcall in c:\\users\\ricar\\anaconda3\\lib\\site-packages (from ipython->insperautograder==0.1.0) (0.2.0)\n",
      "Requirement already satisfied: ipython-genutils~=0.2.0 in c:\\users\\ricar\\anaconda3\\lib\\site-packages (from ipywidgets->insperautograder==0.1.0) (0.2.0)\n",
      "Requirement already satisfied: widgetsnbextension~=3.5.0 in c:\\users\\ricar\\anaconda3\\lib\\site-packages (from ipywidgets->insperautograder==0.1.0) (3.5.2)\n",
      "Requirement already satisfied: jupyterlab-widgets>=1.0.0 in c:\\users\\ricar\\anaconda3\\lib\\site-packages (from ipywidgets->insperautograder==0.1.0) (1.0.0)\n",
      "Requirement already satisfied: nbformat>=4.2.0 in c:\\users\\ricar\\anaconda3\\lib\\site-packages (from ipywidgets->insperautograder==0.1.0) (5.5.0)\n",
      "Requirement already satisfied: ipykernel>=4.5.1 in c:\\users\\ricar\\anaconda3\\lib\\site-packages (from ipywidgets->insperautograder==0.1.0) (6.15.2)\n",
      "Requirement already satisfied: certifi>=2017.4.17 in c:\\users\\ricar\\anaconda3\\lib\\site-packages (from requests->insperautograder==0.1.0) (2022.9.14)\n",
      "Requirement already satisfied: urllib3<1.27,>=1.21.1 in c:\\users\\ricar\\anaconda3\\lib\\site-packages (from requests->insperautograder==0.1.0) (1.26.11)\n",
      "Requirement already satisfied: charset-normalizer<3,>=2 in c:\\users\\ricar\\anaconda3\\lib\\site-packages (from requests->insperautograder==0.1.0) (2.0.4)\n",
      "Requirement already satisfied: idna<4,>=2.5 in c:\\users\\ricar\\anaconda3\\lib\\site-packages (from requests->insperautograder==0.1.0) (3.3)\n",
      "Requirement already satisfied: debugpy>=1.0 in c:\\users\\ricar\\anaconda3\\lib\\site-packages (from ipykernel>=4.5.1->ipywidgets->insperautograder==0.1.0) (1.5.1)\n",
      "Requirement already satisfied: psutil in c:\\users\\ricar\\anaconda3\\lib\\site-packages (from ipykernel>=4.5.1->ipywidgets->insperautograder==0.1.0) (5.9.0)\n",
      "Requirement already satisfied: tornado>=6.1 in c:\\users\\ricar\\anaconda3\\lib\\site-packages (from ipykernel>=4.5.1->ipywidgets->insperautograder==0.1.0) (6.1)\n",
      "Requirement already satisfied: jupyter-client>=6.1.12 in c:\\users\\ricar\\anaconda3\\lib\\site-packages (from ipykernel>=4.5.1->ipywidgets->insperautograder==0.1.0) (7.3.4)\n",
      "Requirement already satisfied: pyzmq>=17 in c:\\users\\ricar\\anaconda3\\lib\\site-packages (from ipykernel>=4.5.1->ipywidgets->insperautograder==0.1.0) (23.2.0)\n",
      "Requirement already satisfied: packaging in c:\\users\\ricar\\anaconda3\\lib\\site-packages (from ipykernel>=4.5.1->ipywidgets->insperautograder==0.1.0) (21.3)\n",
      "Requirement already satisfied: nest-asyncio in c:\\users\\ricar\\anaconda3\\lib\\site-packages (from ipykernel>=4.5.1->ipywidgets->insperautograder==0.1.0) (1.5.5)\n",
      "Requirement already satisfied: parso<0.9.0,>=0.8.0 in c:\\users\\ricar\\anaconda3\\lib\\site-packages (from jedi>=0.16->ipython->insperautograder==0.1.0) (0.8.3)\n",
      "Requirement already satisfied: jsonschema>=2.6 in c:\\users\\ricar\\anaconda3\\lib\\site-packages (from nbformat>=4.2.0->ipywidgets->insperautograder==0.1.0) (4.16.0)\n",
      "Requirement already satisfied: fastjsonschema in c:\\users\\ricar\\anaconda3\\lib\\site-packages (from nbformat>=4.2.0->ipywidgets->insperautograder==0.1.0) (2.16.2)\n",
      "Requirement already satisfied: jupyter_core in c:\\users\\ricar\\anaconda3\\lib\\site-packages (from nbformat>=4.2.0->ipywidgets->insperautograder==0.1.0) (4.11.1)\n",
      "Requirement already satisfied: wcwidth in c:\\users\\ricar\\anaconda3\\lib\\site-packages (from prompt-toolkit!=3.0.0,!=3.0.1,<3.1.0,>=2.0.0->ipython->insperautograder==0.1.0) (0.2.5)\n",
      "Requirement already satisfied: notebook>=4.4.1 in c:\\users\\ricar\\anaconda3\\lib\\site-packages (from widgetsnbextension~=3.5.0->ipywidgets->insperautograder==0.1.0) (6.4.12)\n",
      "Requirement already satisfied: pyrsistent!=0.17.0,!=0.17.1,!=0.17.2,>=0.14.0 in c:\\users\\ricar\\anaconda3\\lib\\site-packages (from jsonschema>=2.6->nbformat>=4.2.0->ipywidgets->insperautograder==0.1.0) (0.18.0)\n",
      "Requirement already satisfied: attrs>=17.4.0 in c:\\users\\ricar\\anaconda3\\lib\\site-packages (from jsonschema>=2.6->nbformat>=4.2.0->ipywidgets->insperautograder==0.1.0) (21.4.0)\n",
      "Requirement already satisfied: python-dateutil>=2.8.2 in c:\\users\\ricar\\anaconda3\\lib\\site-packages (from jupyter-client>=6.1.12->ipykernel>=4.5.1->ipywidgets->insperautograder==0.1.0) (2.8.2)\n",
      "Requirement already satisfied: entrypoints in c:\\users\\ricar\\anaconda3\\lib\\site-packages (from jupyter-client>=6.1.12->ipykernel>=4.5.1->ipywidgets->insperautograder==0.1.0) (0.4)\n",
      "Requirement already satisfied: pywin32>=1.0 in c:\\users\\ricar\\anaconda3\\lib\\site-packages (from jupyter_core->nbformat>=4.2.0->ipywidgets->insperautograder==0.1.0) (302)\n",
      "Requirement already satisfied: nbconvert>=5 in c:\\users\\ricar\\anaconda3\\lib\\site-packages (from notebook>=4.4.1->widgetsnbextension~=3.5.0->ipywidgets->insperautograder==0.1.0) (6.4.4)\n",
      "Requirement already satisfied: prometheus-client in c:\\users\\ricar\\anaconda3\\lib\\site-packages (from notebook>=4.4.1->widgetsnbextension~=3.5.0->ipywidgets->insperautograder==0.1.0) (0.14.1)\n",
      "Requirement already satisfied: jinja2 in c:\\users\\ricar\\anaconda3\\lib\\site-packages (from notebook>=4.4.1->widgetsnbextension~=3.5.0->ipywidgets->insperautograder==0.1.0) (2.11.3)\n",
      "Requirement already satisfied: argon2-cffi in c:\\users\\ricar\\anaconda3\\lib\\site-packages (from notebook>=4.4.1->widgetsnbextension~=3.5.0->ipywidgets->insperautograder==0.1.0) (21.3.0)\n",
      "Requirement already satisfied: Send2Trash>=1.8.0 in c:\\users\\ricar\\anaconda3\\lib\\site-packages (from notebook>=4.4.1->widgetsnbextension~=3.5.0->ipywidgets->insperautograder==0.1.0) (1.8.0)\n",
      "Requirement already satisfied: terminado>=0.8.3 in c:\\users\\ricar\\anaconda3\\lib\\site-packages (from notebook>=4.4.1->widgetsnbextension~=3.5.0->ipywidgets->insperautograder==0.1.0) (0.13.1)\n",
      "Requirement already satisfied: pyparsing!=3.0.5,>=2.0.2 in c:\\users\\ricar\\anaconda3\\lib\\site-packages (from packaging->ipykernel>=4.5.1->ipywidgets->insperautograder==0.1.0) (3.0.9)\n",
      "Requirement already satisfied: bleach in c:\\users\\ricar\\anaconda3\\lib\\site-packages (from nbconvert>=5->notebook>=4.4.1->widgetsnbextension~=3.5.0->ipywidgets->insperautograder==0.1.0) (4.1.0)\n",
      "Requirement already satisfied: testpath in c:\\users\\ricar\\anaconda3\\lib\\site-packages (from nbconvert>=5->notebook>=4.4.1->widgetsnbextension~=3.5.0->ipywidgets->insperautograder==0.1.0) (0.6.0)\n",
      "Requirement already satisfied: nbclient<0.6.0,>=0.5.0 in c:\\users\\ricar\\anaconda3\\lib\\site-packages (from nbconvert>=5->notebook>=4.4.1->widgetsnbextension~=3.5.0->ipywidgets->insperautograder==0.1.0) (0.5.13)\n",
      "Requirement already satisfied: jupyterlab-pygments in c:\\users\\ricar\\anaconda3\\lib\\site-packages (from nbconvert>=5->notebook>=4.4.1->widgetsnbextension~=3.5.0->ipywidgets->insperautograder==0.1.0) (0.1.2)\n",
      "Requirement already satisfied: mistune<2,>=0.8.1 in c:\\users\\ricar\\anaconda3\\lib\\site-packages (from nbconvert>=5->notebook>=4.4.1->widgetsnbextension~=3.5.0->ipywidgets->insperautograder==0.1.0) (0.8.4)\n",
      "Requirement already satisfied: defusedxml in c:\\users\\ricar\\anaconda3\\lib\\site-packages (from nbconvert>=5->notebook>=4.4.1->widgetsnbextension~=3.5.0->ipywidgets->insperautograder==0.1.0) (0.7.1)\n",
      "Requirement already satisfied: pandocfilters>=1.4.1 in c:\\users\\ricar\\anaconda3\\lib\\site-packages (from nbconvert>=5->notebook>=4.4.1->widgetsnbextension~=3.5.0->ipywidgets->insperautograder==0.1.0) (1.5.0)\n",
      "Requirement already satisfied: beautifulsoup4 in c:\\users\\ricar\\anaconda3\\lib\\site-packages (from nbconvert>=5->notebook>=4.4.1->widgetsnbextension~=3.5.0->ipywidgets->insperautograder==0.1.0) (4.11.1)\n",
      "Requirement already satisfied: MarkupSafe>=0.23 in c:\\users\\ricar\\anaconda3\\lib\\site-packages (from jinja2->notebook>=4.4.1->widgetsnbextension~=3.5.0->ipywidgets->insperautograder==0.1.0) (2.0.1)\n",
      "Requirement already satisfied: six>=1.5 in c:\\users\\ricar\\anaconda3\\lib\\site-packages (from python-dateutil>=2.8.2->jupyter-client>=6.1.12->ipykernel>=4.5.1->ipywidgets->insperautograder==0.1.0) (1.16.0)\n",
      "Requirement already satisfied: pywinpty>=1.1.0 in c:\\users\\ricar\\anaconda3\\lib\\site-packages (from terminado>=0.8.3->notebook>=4.4.1->widgetsnbextension~=3.5.0->ipywidgets->insperautograder==0.1.0) (2.0.2)\n",
      "Requirement already satisfied: argon2-cffi-bindings in c:\\users\\ricar\\anaconda3\\lib\\site-packages (from argon2-cffi->notebook>=4.4.1->widgetsnbextension~=3.5.0->ipywidgets->insperautograder==0.1.0) (21.2.0)\n",
      "Requirement already satisfied: cffi>=1.0.1 in c:\\users\\ricar\\anaconda3\\lib\\site-packages (from argon2-cffi-bindings->argon2-cffi->notebook>=4.4.1->widgetsnbextension~=3.5.0->ipywidgets->insperautograder==0.1.0) (1.15.1)\n",
      "Requirement already satisfied: soupsieve>1.2 in c:\\users\\ricar\\anaconda3\\lib\\site-packages (from beautifulsoup4->nbconvert>=5->notebook>=4.4.1->widgetsnbextension~=3.5.0->ipywidgets->insperautograder==0.1.0) (2.3.1)\n",
      "Requirement already satisfied: webencodings in c:\\users\\ricar\\anaconda3\\lib\\site-packages (from bleach->nbconvert>=5->notebook>=4.4.1->widgetsnbextension~=3.5.0->ipywidgets->insperautograder==0.1.0) (0.5.1)\n",
      "Requirement already satisfied: pycparser in c:\\users\\ricar\\anaconda3\\lib\\site-packages (from cffi>=1.0.1->argon2-cffi-bindings->argon2-cffi->notebook>=4.4.1->widgetsnbextension~=3.5.0->ipywidgets->insperautograder==0.1.0) (2.21)\n",
      "Building wheels for collected packages: insperautograder\n",
      "  Building wheel for insperautograder (setup.py): started\n",
      "  Building wheel for insperautograder (setup.py): finished with status 'done'\n",
      "  Created wheel for insperautograder: filename=insperautograder-0.1.0-py3-none-any.whl size=3616 sha256=a4cb7ada334e617c2654e563c78d8049d9d6b734d29e0b421ced0e6dc23f5bdb\n",
      "  Stored in directory: C:\\Users\\ricar\\AppData\\Local\\Temp\\pip-ephem-wheel-cache-j4a00iwb\\wheels\\a2\\cc\\d8\\a9e0d52d5c13bcbb2b9875678870a63360122fbe37dec54a91\n",
      "Successfully built insperautograder\n",
      "Installing collected packages: python-dotenv, insperautograder\n",
      "Successfully installed insperautograder-0.1.0 python-dotenv-1.0.0\n"
     ]
    },
    {
     "name": "stderr",
     "output_type": "stream",
     "text": [
      "  Running command git clone --filter=blob:none --quiet https://github.com/macielcalebe/insperautograding.git 'C:\\Users\\ricar\\AppData\\Local\\Temp\\pip-req-build-14s137ez'\n"
     ]
    }
   ],
   "source": [
    "!pip uninstall -y insperautograder\n",
    "!pip install git+https://github.com/macielcalebe/insperautograding.git"
   ]
  },
  {
   "cell_type": "markdown",
   "id": "2ae5f5f3",
   "metadata": {},
   "source": [
    "## Criar o `.env`\n",
    "\n",
    "Os arquivos `.env` são arquivos de configuração usados no desenvolvimento de software para armazenar variáveis de ambiente. **Variáveis de ambiente** são valores definidos **fora do código-fonte** e usados para configurar diferentes aspectos de um aplicativo, como strings de conexão de banco de dados, chaves de API e outras **informações confidenciais**.\n",
    "\n",
    "Arquivos `.env` **jamais** (EU DISSE JAMAAAAIS) devem ser enviados para o github, isto pode representar sérios riscos pois pode prover acesso indevidos, como:\n",
    "- O hacker acessa e apaga toda sua base de dados\n",
    "- O hacker usa sua chave de API da AWS para minerar criptomoedas ou enviar spam (pode gastar milhares de dólares em minutos ou horas)\n",
    "\n",
    "Vamos instalar a biblioteca"
   ]
  },
  {
   "cell_type": "code",
   "execution_count": 2,
   "id": "1e82ba3a",
   "metadata": {},
   "outputs": [
    {
     "name": "stdout",
     "output_type": "stream",
     "text": [
      "Requirement already satisfied: python-dotenv in c:\\users\\ricar\\anaconda3\\lib\\site-packages (1.0.0)\n"
     ]
    }
   ],
   "source": [
    "!pip install python-dotenv"
   ]
  },
  {
   "cell_type": "markdown",
   "id": "19d99af9",
   "metadata": {},
   "source": [
    "e escrever um `.env` na pasta pai (supondo que você tem uma pasta para a disciplina e nela cria uma pasta por aula). Vamos aproveitar a deixa e definir não apenas as variáveis do autograding, mas também do nosso servidor local de megadados, assim não será mais necessário passar nenhuma informação nas aulas que requeiram conexão com o MySQL:"
   ]
  },
  {
   "cell_type": "code",
   "execution_count": 3,
   "id": "06ddf3ec",
   "metadata": {},
   "outputs": [
    {
     "name": "stdout",
     "output_type": "stream",
     "text": [
      "Writing ../.env\n"
     ]
    }
   ],
   "source": [
    "%%writefile ../.env\n",
    "IAG_SERVER_URL=\"https://bigdata.insper-comp.com.br/iag\"\n",
    "IAG_SUBJECT=\"megadados\"\n",
    "IAG_OFFERING=\"23-1\"\n",
    "IAG_TOKEN=\"iagtok_xxxxxxxxxxxxxxxxxxxxxxxxxxxxxxxxxxxxxxx\"\n",
    "\n",
    "MD_DB_SERVER=\"localhost\"\n",
    "MD_DB_USERNAME=\"root\"\n",
    "MD_DB_PASSWORD=\"2909\""
   ]
  },
  {
   "cell_type": "markdown",
   "id": "fde705c2",
   "metadata": {},
   "source": [
    "Confira pelo navegador de arquivos se o `.env` foi gerado corretamente!\n",
    "\n",
    "Como uma segunda confirmação, vamos tentar ler o endereço do servidor:"
   ]
  },
  {
   "cell_type": "code",
   "execution_count": 9,
   "id": "f0fab0af",
   "metadata": {},
   "outputs": [
    {
     "name": "stdout",
     "output_type": "stream",
     "text": [
      "localhost\n"
     ]
    }
   ],
   "source": [
    "import os\n",
    "from dotenv import load_dotenv\n",
    "\n",
    "load_dotenv(override=True)\n",
    "\n",
    "# Se aparecer o mesmo conteúdo definido na variável no .env, então é sucesso!\n",
    "print(os.getenv('MD_DB_SERVER'))"
   ]
  },
  {
   "cell_type": "markdown",
   "id": "86fb92f7",
   "metadata": {},
   "source": [
    "## Gerar um token\n",
    "\n",
    "Vamos fazer uma requisição para gerar um token que será utilizado para identificar você nos envios da disciplina.\n",
    "\n",
    "Caso algum import falha, faça `pip install`"
   ]
  },
  {
   "cell_type": "code",
   "execution_count": 4,
   "id": "6b279e82",
   "metadata": {},
   "outputs": [],
   "source": [
    "import insperautograder.token as iat\n",
    "import insperautograder.jupyter as iaj"
   ]
  },
  {
   "cell_type": "code",
   "execution_count": 5,
   "id": "05bbb306",
   "metadata": {},
   "outputs": [
    {
     "data": {
      "text/markdown": [
       "\"Sending token in background! Check your Insper E-mail!\""
      ],
      "text/plain": [
       "<IPython.core.display.Markdown object>"
      ]
     },
     "metadata": {},
     "output_type": "display_data"
    }
   ],
   "source": [
    "# Descomente as linhas abaixo!\n",
    "username = 'ricardoi' # Informe aqui seu usuário Insper ex: mariana5 (sem @al....)\n",
    "iat.get_new_token(username=username)"
   ]
  },
  {
   "cell_type": "markdown",
   "id": "843b7c66",
   "metadata": {},
   "source": [
    "Confira seu email. Copie o token e cole no arquivo `.env` gerado no passo anterior. Como o token é a única informação sensível no `.env`, ao invés de atualizar pelo jupyter notebook, abra em algum editor de textos.\n",
    "\n",
    "Após a edição, execute a próxima célula para atualizar as variáveis de ambiente:"
   ]
  },
  {
   "cell_type": "code",
   "execution_count": 10,
   "id": "fc14c654",
   "metadata": {},
   "outputs": [
    {
     "data": {
      "text/plain": [
       "True"
      ]
     },
     "execution_count": 10,
     "metadata": {},
     "output_type": "execute_result"
    }
   ],
   "source": [
    "load_dotenv(override=True)"
   ]
  },
  {
   "cell_type": "markdown",
   "id": "2bc4a562",
   "metadata": {},
   "source": [
    "## Testando a API!\n",
    "\n",
    "**Exercício exemplo**: Faça uma query que conta quantos registros estão cadastrados na tabela `MUSICA`. Adicione sua resposta na variável `sql` abaixo e rode a célula após sua última modificação.\n",
    "\n",
    "Considere que a seguinte resposta está correta, vamos fazer seu envio!"
   ]
  },
  {
   "cell_type": "code",
   "execution_count": 13,
   "id": "00349bb1",
   "metadata": {},
   "outputs": [],
   "source": [
    "sql = '''\n",
    "SELECT COUNT(*)\n",
    "FROM MUSICA\n",
    "'''"
   ]
  },
  {
   "cell_type": "markdown",
   "id": "c62541f0",
   "metadata": {},
   "source": [
    "Para enviar, clique no botão:"
   ]
  },
  {
   "cell_type": "code",
   "execution_count": 12,
   "id": "74b1b637",
   "metadata": {},
   "outputs": [
    {
     "data": {
      "application/vnd.jupyter.widget-view+json": {
       "model_id": "4f9605b7dded4b71bab142e5e5a7c03f",
       "version_major": 2,
       "version_minor": 0
      },
      "text/plain": [
       "interactive(children=(Button(description='Enviar ex01', style=ButtonStyle()), Output()), _dom_classes=('widget…"
      ]
     },
     "metadata": {},
     "output_type": "display_data"
    }
   ],
   "source": [
    "iaj.sender(answer='sql', task='baby_steps', question='ex01', answer_type='pyvar')"
   ]
  },
  {
   "cell_type": "markdown",
   "id": "c4e9ea47",
   "metadata": {},
   "source": [
    "Perceba que a query possui um erro. Faça a correção, e, após sua última modificação, faça o envio clicando novamente no botão de envio! Ele automaticamente irá ler a variável `sql` (pega o valor atual dela, definido na última vez que você rodou a célula) e enviar para o servidor de testes!"
   ]
  },
  {
   "cell_type": "markdown",
   "id": "29321d76",
   "metadata": {},
   "source": [
    "## Atividades e Notas\n",
    "\n",
    "Podemos utilizar as chamadas para recuperar as atividades disponíveis, prazos e notas obtidas:"
   ]
  },
  {
   "cell_type": "code",
   "execution_count": 14,
   "id": "f421d0b2",
   "metadata": {},
   "outputs": [
    {
     "data": {
      "text/markdown": [
       "|    | Atividade   | De                               | Até                              |\n",
       "|---:|:------------|:---------------------------------|:---------------------------------|\n",
       "|  0 | baby_steps  | 2023-03-01 03:00:00+00:00        | 2023-06-01 03:00:00+00:00        |\n",
       "|  1 | sql_review1 | 2023-03-11 20:36:25.452528+00:00 | 2023-03-11 20:37:21.153940+00:00 |"
      ],
      "text/plain": [
       "<IPython.core.display.Markdown object>"
      ]
     },
     "metadata": {},
     "output_type": "display_data"
    }
   ],
   "source": [
    "iaj.tasks()"
   ]
  },
  {
   "cell_type": "code",
   "execution_count": 15,
   "id": "3f2e0cf6",
   "metadata": {},
   "outputs": [
    {
     "data": {
      "text/markdown": [
       "|    | Atividade   | Exercício   |   Peso |   Nota |\n",
       "|---:|:------------|:------------|-------:|-------:|\n",
       "|  0 | baby_steps  | ex01        |      1 |     10 |"
      ],
      "text/plain": [
       "<IPython.core.display.Markdown object>"
      ]
     },
     "metadata": {},
     "output_type": "display_data"
    }
   ],
   "source": [
    "iaj.grades(task='baby_steps')"
   ]
  },
  {
   "cell_type": "code",
   "execution_count": 16,
   "id": "3367239a",
   "metadata": {},
   "outputs": [
    {
     "data": {
      "text/markdown": [
       "|    | Tarefa     |   Nota |\n",
       "|---:|:-----------|-------:|\n",
       "|  0 | baby_steps |     10 |"
      ],
      "text/plain": [
       "<IPython.core.display.Markdown object>"
      ]
     },
     "metadata": {},
     "output_type": "display_data"
    }
   ],
   "source": [
    "iaj.grades(by='TASK', task='baby_steps')"
   ]
  },
  {
   "cell_type": "code",
   "execution_count": null,
   "id": "8f1fd877",
   "metadata": {},
   "outputs": [],
   "source": []
  }
 ],
 "metadata": {
  "kernelspec": {
   "display_name": "Python 3 (ipykernel)",
   "language": "python",
   "name": "python3"
  },
  "language_info": {
   "codemirror_mode": {
    "name": "ipython",
    "version": 3
   },
   "file_extension": ".py",
   "mimetype": "text/x-python",
   "name": "python",
   "nbconvert_exporter": "python",
   "pygments_lexer": "ipython3",
   "version": "3.9.13"
  }
 },
 "nbformat": 4,
 "nbformat_minor": 5
}
