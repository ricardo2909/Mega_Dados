{
 "cells": [
  {
   "cell_type": "markdown",
   "id": "f62ded59",
   "metadata": {},
   "source": [
    "### Aula 13 -  Revisão"
   ]
  },
  {
   "cell_type": "markdown",
   "id": "8a630554",
   "metadata": {},
   "source": [
    "Nesta aula iremos **revisar SQL** e fixar os conteúdos aprendidos nas últimas aulas.\n",
    "\n",
    "## Como resolver os exercícios?\n",
    "\n",
    "Indicamos que resolva em sua máquina. Utilize o MySQL Workbench ou o conector para testar as queries. Quando estiver bastante certo de que a resposta está correta, anexe no notebook a resposta / imagem de resposta (quando solicitado imagem).\n",
    "\n",
    "## Import das bibliotecas\n",
    "\n",
    "Vamos importar as bibliotecas."
   ]
  },
  {
   "cell_type": "code",
   "execution_count": 1,
   "id": "b2f1597a",
   "metadata": {},
   "outputs": [],
   "source": [
    "import mysql.connector\n",
    "from functools import partial\n",
    "import os\n",
    "from dotenv import load_dotenv"
   ]
  },
  {
   "cell_type": "markdown",
   "id": "33eefa0d",
   "metadata": {},
   "source": [
    "E vamos criar nosso HELPER de conexão com o banco! Perceba que, uma vez configurado o `.env` não precisaremos mais informar usuários, senhas e URLs!"
   ]
  },
  {
   "cell_type": "code",
   "execution_count": 2,
   "id": "f5147533",
   "metadata": {},
   "outputs": [],
   "source": [
    "load_dotenv(override=True)\n",
    "\n",
    "def get_connection_helper():\n",
    "\n",
    "    def run_db_query(connection, query, args=None):\n",
    "        with connection.cursor() as cursor:\n",
    "            print('Executando query:')\n",
    "            cursor.execute(query, args)\n",
    "            for result in cursor:\n",
    "                print(result)\n",
    "\n",
    "    connection = mysql.connector.connect(\n",
    "        host=os.getenv('MD_DB_SERVER'),\n",
    "        user=os.getenv('MD_DB_USERNAME'),\n",
    "        password=os.getenv('MD_DB_PASSWORD'),\n",
    "        database='XPTO',\n",
    "    )\n",
    "    return connection, partial(run_db_query, connection)\n",
    "\n",
    "\n",
    "connection, db = get_connection_helper()"
   ]
  },
  {
   "cell_type": "markdown",
   "id": "1b7c8d46",
   "metadata": {},
   "source": [
    "## Exercícios de revisão - Megadados\n",
    "\n",
    "Uma pizzaria quer informatizar seu cardápio para controlar melhor as pizzas que oferece. O diagrama do modelo relacional mostrado abaixo demonstra a estrutura da informação que se deseja armazenar e consultar:\n",
    "\n",
    "<img src=\"img/modelo_relacional.png\">\n",
    "\n",
    "- Tabela “tipo”: armazena os nomes dos tipos de ingrediente de pizza: vegano, sem gluten, sem lactose, vegetariano, etc.\n",
    "  - Campo “tipo”: o nome do tipo\n",
    "- Tabela “ingrediente”: armazena informações à respeito dos ingredientes de pizza.\n",
    "  - Campo “ingrediente”: o nome do ingrediente\n",
    "  - Campo “preco_unitario”: o custo do ingrediente por unidade\n",
    "- Tabela “ingredientetipo”: relaciona os ingredientes de pizza com seus tipos. Por exemplo: brócoli é vegano, vegetariano, sem lactose e sem glutem, logo aparece quatro vezes nesta tabela.\n",
    "  - Campo “ingrediente”: chave estrangeira para a tabela “ingrediente”\n",
    "  - Campo “tipo”: chave estrangeira para a tabela “tipo”\n",
    "- Tabela “pizza”: O cardápio da pizzaria\n",
    "  - Campo “pizza”: o nome da pizza\n",
    "  - Campo “preco”: o valor de venda da pizza\n",
    "- Tabela “ingredientepizza”: mostra como cada pizza é feita\n",
    "  - Campo “ingrediente”: chave estrangeira para a tabela de ingredientes\n",
    "  - Campo “pizza”: chave estrangeira para a tabela de pizzas\n",
    "  - Campo “quantidade”: quantas unidades deste ingrediente fazem parte desta pizza\n",
    "\n",
    "O script `script_001.sql` contem a DDL para criação do banco de dados e também a DML para inserção de alguns valores de exemplo, para ajudar vocês a responder as questões da prova. Se quiser, adicione exemplos à vontade. Nas perguntas a seguir construa código SQL para cumprir o que se pede."
   ]
  },
  {
   "cell_type": "markdown",
   "id": "c167b70e",
   "metadata": {},
   "source": [
    "**Exercício 1**: Liste as 3 pizzas que dão mais lucro. O lucro de uma pizza é o seu preço de venda menos o custo total dos ingredientes nela utilizados (não se esqueça de que cada ingrediente da pizza tem uma especificação de quantidade a ser utilizada)."
   ]
  },
  {
   "cell_type": "code",
   "execution_count": 15,
   "id": "d13c561d",
   "metadata": {},
   "outputs": [],
   "source": [
    "sql_ex1 = '''\n",
    "(SELECT \n",
    "    pizza, preco-(SUM(quantidade * preco_unitario)) \n",
    "FROM \n",
    "    pizza INNER JOIN ingredientepizza USING(pizza) INNER JOIN ingrediente USING(ingrediente) \n",
    "GROUP BY \n",
    "    pizza\n",
    "ORDER BY\n",
    " preco-(SUM(quantidade * preco_unitario))\n",
    "DESC LIMIT 3)\n",
    "'''"
   ]
  },
  {
   "cell_type": "code",
   "execution_count": 16,
   "id": "6b57fee2",
   "metadata": {},
   "outputs": [
    {
     "name": "stdout",
     "output_type": "stream",
     "text": [
      "Executando query:\n",
      "('pão', 95.0)\n",
      "('incoerente', 83.0)\n",
      "('legumes', 78.0)\n"
     ]
    }
   ],
   "source": [
    "db(sql_ex1)"
   ]
  },
  {
   "cell_type": "markdown",
   "id": "6f417438",
   "metadata": {},
   "source": [
    "**Exercício 2**: Construa uma tabela temporária que liste todas as pizzas e a quantidade de ingredientes nela."
   ]
  },
  {
   "cell_type": "code",
   "execution_count": 17,
   "id": "1dedb525",
   "metadata": {},
   "outputs": [],
   "source": [
    "sql_ex2 = '''\n",
    "CREATE TEMPORARY TABLE temp_pizza_ingrediente AS\n",
    "SELECT\n",
    "    pizza, COUNT(ingrediente) AS quantidade_ingredientes\n",
    "FROM\n",
    "    pizza INNER JOIN ingredientepizza USING(pizza)\n",
    "GROUP BY\n",
    "    pizza\n",
    "'''"
   ]
  },
  {
   "cell_type": "code",
   "execution_count": 20,
   "id": "fc5ad9a2",
   "metadata": {},
   "outputs": [],
   "source": [
    "db(sql_ex2)"
   ]
  },
  {
   "cell_type": "code",
   "execution_count": 21,
   "id": "8014fb84",
   "metadata": {},
   "outputs": [
    {
     "name": "stdout",
     "output_type": "stream",
     "text": [
      "Executando query:\n",
      "('calabresa', 2)\n",
      "('incoerente', 4)\n",
      "('legumes', 2)\n",
      "('mussarela', 2)\n",
      "('pão', 1)\n"
     ]
    }
   ],
   "source": [
    "db('SELECT * FROM temp_pizza_ingrediente')"
   ]
  },
  {
   "cell_type": "markdown",
   "id": "16515654",
   "metadata": {},
   "source": [
    "**Exercício 3**: Construa uma tabela temporária que liste todas as pizzas a quantidade de ingredientes veganos nela (ou seja, onde o tipo é “vegana”)."
   ]
  },
  {
   "cell_type": "code",
   "execution_count": 34,
   "id": "64c5c494",
   "metadata": {},
   "outputs": [],
   "source": [
    "sql_ex3 = '''\n",
    "CREATE TEMPORARY TABLE temp_vegano AS\n",
    "SELECT\n",
    "    pizza, SUM(CASE WHEN ingredientetipo.tipo = \"vegana\" THEN 1 ELSE 0 END) AS quantidade_ingredientes\n",
    "FROM\n",
    "    pizza INNER JOIN ingredientepizza USING(pizza) INNER JOIN ingredientetipo USING(ingrediente)\n",
    "GROUP BY\n",
    "    pizza\n",
    "'''"
   ]
  },
  {
   "cell_type": "code",
   "execution_count": 35,
   "id": "8e7dceb7",
   "metadata": {},
   "outputs": [
    {
     "name": "stdout",
     "output_type": "stream",
     "text": [
      "Executando query:\n",
      "Executando query:\n"
     ]
    }
   ],
   "source": [
    "db('DROP TABLE IF EXISTS temp_vegano')\n",
    "db(sql_ex3)"
   ]
  },
  {
   "cell_type": "code",
   "execution_count": 36,
   "id": "d61dd095",
   "metadata": {},
   "outputs": [
    {
     "name": "stdout",
     "output_type": "stream",
     "text": [
      "Executando query:\n",
      "('calabresa', Decimal('0'))\n",
      "('incoerente', Decimal('2'))\n",
      "('legumes', Decimal('2'))\n",
      "('mussarela', Decimal('0'))\n",
      "('pão', Decimal('0'))\n"
     ]
    }
   ],
   "source": [
    "db('SELECT * FROM temp_vegano')"
   ]
  },
  {
   "cell_type": "markdown",
   "id": "ed05df63",
   "metadata": {},
   "source": [
    "**Exercício 4**: Usando as tabelas temporárias dos itens (b) e (c) – mesmo que você não os tenha feito – liste as pizzas veganas da pizzaria. Uma pizza é vegana se todos os seus ingredientes são veganos."
   ]
  },
  {
   "cell_type": "code",
   "execution_count": null,
   "id": "0ee06f32",
   "metadata": {},
   "outputs": [],
   "source": [
    "sql_ex4 = '''\n",
    "-- SUA RESPOSTA AQUI\n",
    "'''"
   ]
  },
  {
   "cell_type": "code",
   "execution_count": null,
   "id": "9408d918",
   "metadata": {},
   "outputs": [],
   "source": [
    "db(sql_ex4)"
   ]
  },
  {
   "cell_type": "markdown",
   "id": "42518d1a",
   "metadata": {},
   "source": [
    "**Exercício 5**: Liste os ingredientes e seus tipos, um ingrediente por linha (Dica: use a função GROUP_CONCAT). O resultado deve ser da seguinte forma:\n",
    "\n",
    "<img src=\"img/group_concat.png\">\n"
   ]
  },
  {
   "cell_type": "code",
   "execution_count": null,
   "id": "db840305",
   "metadata": {},
   "outputs": [],
   "source": [
    "sql_ex5 = '''\n",
    "-- SUA RESPOSTA AQUI\n",
    "'''"
   ]
  },
  {
   "cell_type": "code",
   "execution_count": null,
   "id": "026d579a",
   "metadata": {},
   "outputs": [],
   "source": [
    "db(sql_ex5)"
   ]
  },
  {
   "cell_type": "markdown",
   "id": "88707d5e",
   "metadata": {},
   "source": [
    "**Exercício 6**: Construa o diagrama do modelo entidade-relacionamento correspondente ao diagrama do modelo relacional acima. Normalmente a ordem de construção das coisas é o contrário disso, mas aqui eu estou apenas explorando o conhecimento de vocês! Gere um arquivo PNG, JPG ou PDF com a figura resultante, deixe na pasta `img`, e altere a tag de imagem."
   ]
  },
  {
   "cell_type": "markdown",
   "id": "74228600",
   "metadata": {},
   "source": [
    "<div class=\"alert alert-success\">\n",
    "Edite na resposta o caminho para a imagem!\n",
    "    \n",
    "<img src=\"img/exemplo.png\">\n",
    "\n",
    "</div>"
   ]
  }
 ],
 "metadata": {
  "kernelspec": {
   "display_name": "Python 3 (ipykernel)",
   "language": "python",
   "name": "python3"
  },
  "language_info": {
   "codemirror_mode": {
    "name": "ipython",
    "version": 3
   },
   "file_extension": ".py",
   "mimetype": "text/x-python",
   "name": "python",
   "nbconvert_exporter": "python",
   "pygments_lexer": "ipython3",
   "version": "3.9.13"
  }
 },
 "nbformat": 4,
 "nbformat_minor": 5
}
