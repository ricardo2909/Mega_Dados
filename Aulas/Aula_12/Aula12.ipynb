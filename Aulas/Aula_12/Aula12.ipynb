{
 "cells": [
  {
   "cell_type": "markdown",
   "id": "f62ded59",
   "metadata": {},
   "source": [
    "# Aula 12 - Simulado e Revisão"
   ]
  },
  {
   "cell_type": "markdown",
   "id": "8a630554",
   "metadata": {},
   "source": [
    "Nesta aula iremos **revisar SQL** e fixar os conteúdos aprendidos nas últimas aulas.\n",
    "\n",
    "## Como resolver os exercícios?\n",
    "\n",
    "Indicamos que resolva em sua máquina. Utilize o MySQL Workbench ou o conector para testar as queries. Quando estiver bastante certo de que a resposta está correta, anexe no notebook a resposta / imagem de resposta (quando solicitado imagem).\n",
    "\n",
    "## Import das bibliotecas\n",
    "\n",
    "Vamos importar as bibliotecas."
   ]
  },
  {
   "cell_type": "code",
   "execution_count": 1,
   "id": "b2f1597a",
   "metadata": {},
   "outputs": [],
   "source": [
    "import mysql.connector\n",
    "from functools import partial\n",
    "import os\n",
    "from dotenv import load_dotenv"
   ]
  },
  {
   "cell_type": "markdown",
   "id": "33eefa0d",
   "metadata": {},
   "source": [
    "E vamos criar nosso HELPER de conexão com o banco! Perceba que, uma vez configurado o `.env` não precisaremos mais informar usuários, senhas e URLs!"
   ]
  },
  {
   "cell_type": "code",
   "execution_count": 50,
   "id": "f5147533",
   "metadata": {},
   "outputs": [],
   "source": [
    "load_dotenv(override=True)\n",
    "\n",
    "def get_connection_helper():\n",
    "\n",
    "    def run_db_query(connection, query, args=None):\n",
    "        with connection.cursor() as cursor:\n",
    "            print('Executando query:')\n",
    "            cursor.execute(query, args)\n",
    "            for result in cursor:\n",
    "                print(result)\n",
    "\n",
    "    connection = mysql.connector.connect(\n",
    "        host=os.getenv('MD_DB_SERVER'),\n",
    "        user=os.getenv('MD_DB_USERNAME'),\n",
    "        password=os.getenv('MD_DB_PASSWORD'),\n",
    "        database='fazendas',\n",
    "    )\n",
    "    return connection, partial(run_db_query, connection)\n",
    "\n",
    "\n",
    "connection, db = get_connection_helper()"
   ]
  },
  {
   "cell_type": "code",
   "execution_count": 49,
   "id": "967a39d0",
   "metadata": {},
   "outputs": [],
   "source": [
    "connection.commit()"
   ]
  },
  {
   "cell_type": "markdown",
   "id": "1b7c8d46",
   "metadata": {},
   "source": [
    "## Exercícios de revisão - Megadados\n",
    "\n",
    "Um dos setores de tecnologia em franca expansão é o agrotech. Avanços em telecomunicações, computação e sistemas de informação viabilizam a aplicação de tecnologia da informação para o aumento da produtividade no campo.\n",
    "\n",
    "\n",
    "Você foi contratado por uma empresa de automação agrícola. Sua tarefa é implementar um sistema para ajudar na aplicação de inseticidas no campo. Em conversas com o cliente, você levantou as seguintes informações sobre o domínio de negócios:\n",
    "- Uma fazenda tem vários lotes. É importante dividir a fazenda em lotes para implementar a rotação das plantações: em um ano planta-se milho em um lote, noutro ano planta-se soja, etc.\n",
    "- Cada lote tem apenas um tipo de plantação por vez (ou seja, não tem lote hibrido milho-soja)\n",
    "- Um inseticida pode servir para vários tipos de plantação, mas não para todos. De modo similar, uma plantação pode receber diferentes inseticidas, mas provavelmente não todos.\n",
    "- Para cada combinação de tipos de plantação e inseticida existe uma frequência mensal de aplicação.\n",
    "- Cada inseticida tem um certo custo por hectare para ser aplicado.\n",
    "- Cada lote vai receber um inseticida específico, determinado pelo engenheiro agrícola."
   ]
  },
  {
   "cell_type": "markdown",
   "id": "c167b70e",
   "metadata": {},
   "source": [
    "**Exercício 1**: Liste as entidades deste problema e seus atributos, usando a notação de *schema* do modelo relacional."
   ]
  },
  {
   "attachments": {},
   "cell_type": "markdown",
   "id": "a80fd3af",
   "metadata": {},
   "source": [
    "<div class=\"alert alert-success\">\n",
    "\n",
    "Fazenda, Lotes, plantacao, inseticida, \n",
    "\n",
    "</div>"
   ]
  },
  {
   "cell_type": "markdown",
   "id": "4799a2b3",
   "metadata": {},
   "source": [
    "**Exercício 2**: Desenhe o diagrama do modelo relacional deste problema. Não esqueça de indicar claramente as chaves primárias, chaves estrangeiras, e a cardinalidade dos relacionamentos.\n",
    "\n",
    "**Obs**: Salve a imagem do diagrama na pasta `img`. Edite na resposta o caminho para a imagem!"
   ]
  },
  {
   "attachments": {},
   "cell_type": "markdown",
   "id": "b049728c",
   "metadata": {},
   "source": [
    "<div class=\"alert alert-success\">\n",
    "Edite na resposta o caminho para a imagem!\n",
    "<img src=\"img/diagrama.png\">\n",
    "\n",
    "</div>"
   ]
  },
  {
   "cell_type": "markdown",
   "id": "46212551",
   "metadata": {},
   "source": [
    "**Exercício 3**: Crie uma query que retorne o **Nome do consumidor** e **telefone** de todos os consumidores que possuem a substring `Ltd` em seu nome. Ainda, retorne em ordem decrescente por nome."
   ]
  },
  {
   "attachments": {},
   "cell_type": "markdown",
   "id": "448486aa",
   "metadata": {},
   "source": [
    "<div class=\"alert alert-success\">\n",
    "\n",
    "Dê dois cliques e edite!\n",
    "    \n",
    "```mysql\n",
    "    -- SUA RESPOSTA AQUI!\n",
    "```\n",
    "\n",
    "</div>"
   ]
  },
  {
   "cell_type": "code",
   "execution_count": 5,
   "id": "27320a9c",
   "metadata": {},
   "outputs": [
    {
     "name": "stdout",
     "output_type": "stream",
     "text": [
      "Executando query:\n",
      "('Mini Gifts Distributors Ltd.', '4155551450')\n",
      "('Dragon Souveniers, Ltd.', '+65 221 7555')\n",
      "('UK Collectables, Ltd.', '(171) 555-2282')\n",
      "('Toms Spezialitäten, Ltd', '0221-5554327')\n",
      "('Royal Canadian Collectables, Ltd.', '(604) 555-4555')\n",
      "(\"Anna's Decorations, Ltd\", '02 9936 8555')\n",
      "('Vida Sport, Ltd', '0897-034555')\n",
      "('Mini Creations Ltd.', '5085559555')\n",
      "('Cramer Spezialitäten, Ltd', '0555-09555')\n",
      "(\"Men 'R' US Retailers, Ltd.\", '2155554369')\n",
      "('Tokyo Collectables, Ltd', '+81 3 3584 0555')\n",
      "('Extreme Desk Decorations, Ltd', '04 499 9555')\n",
      "('Corrida Auto Replicas, Ltd', '(91) 555 22 82')\n",
      "('Anton Designs, Ltd.', '+34 913 728555')\n",
      "('Australian Collectables, Ltd', '61-9-3844-6555')\n",
      "('Signal Collectibles Ltd.', '4155554312')\n",
      "('Double Decker Gift Stores, Ltd', '(171) 555-7555')\n"
     ]
    }
   ],
   "source": [
    "db(''' SELECT customerName, phone FROM customers WHERE customerName LIKE '%Ltd' or customerName LIKE '%Ltd.' ''')"
   ]
  },
  {
   "cell_type": "markdown",
   "id": "48c91491",
   "metadata": {},
   "source": [
    "**Exercício 4**: Escreva a DML para as seguintes tarefas:\n",
    "    \n",
    "**a.** Crie 3 lotes para a fazenda: um de 4 hectares, outro de 3 hectares, e outro de 5 hectares."
   ]
  },
  {
   "cell_type": "markdown",
   "id": "7b0c682f",
   "metadata": {},
   "source": [
    "<div class=\"alert alert-success\">\n",
    "\n",
    "Dê dois cliques e edite!\n",
    "    \n",
    "```mysql\n",
    "    -- SUA RESPOSTA AQUI!\n",
    "```\n",
    "\n",
    "</div>"
   ]
  },
  {
   "cell_type": "code",
   "execution_count": 7,
   "id": "a75db129",
   "metadata": {},
   "outputs": [
    {
     "name": "stdout",
     "output_type": "stream",
     "text": [
      "Executando query:\n"
     ]
    }
   ],
   "source": [
    "db ('INSERT INTO fazenda (Nome, Dono) VALUES (\"Fazenda\", \"Fernando Boiola\");')"
   ]
  },
  {
   "cell_type": "code",
   "execution_count": null,
   "id": "442207d3",
   "metadata": {},
   "outputs": [
    {
     "name": "stdout",
     "output_type": "stream",
     "text": [
      "Executando query:\n"
     ]
    }
   ],
   "source": [
    "db ('INSERT INTO fazenda (Nome, Dono) VALUES (\"Fazenda\", \"Fernando Boiola\");')"
   ]
  },
  {
   "cell_type": "code",
   "execution_count": null,
   "id": "9a699c0c",
   "metadata": {},
   "outputs": [
    {
     "name": "stdout",
     "output_type": "stream",
     "text": [
      "Executando query:\n"
     ]
    }
   ],
   "source": [
    "db ('INSERT INTO fazenda (Nome, Dono) VALUES (\"Fazenda\", \"Fernando Boiola\");')"
   ]
  },
  {
   "cell_type": "code",
   "execution_count": null,
   "id": "eb6acaf2",
   "metadata": {},
   "outputs": [
    {
     "name": "stdout",
     "output_type": "stream",
     "text": [
      "Executando query:\n"
     ]
    }
   ],
   "source": [
    "db ('INSERT INTO fazenda (Nome, Dono) VALUES (\"Fazenda\", \"Fernando Boiola\");')"
   ]
  },
  {
   "cell_type": "code",
   "execution_count": 17,
   "id": "eae9084a",
   "metadata": {},
   "outputs": [
    {
     "name": "stdout",
     "output_type": "stream",
     "text": [
      "Executando query:\n"
     ]
    }
   ],
   "source": [
    "db('INSERT INTO lotes (Tamanho, fazenda_idFazenda, inseticida_idInseticida, plantação_idPlantação) VALUES (5, 3,1,1);')"
   ]
  },
  {
   "attachments": {},
   "cell_type": "markdown",
   "id": "a7fce8e9",
   "metadata": {},
   "source": [
    "**b.** Corrija um erro no item anterior: mude o tamanho do lote de 3 hectares para 3,5 hectares."
   ]
  },
  {
   "cell_type": "markdown",
   "id": "8ccdb801",
   "metadata": {},
   "source": [
    "<div class=\"alert alert-success\">\n",
    "\n",
    "Dê dois cliques e edite!\n",
    "    \n",
    "```mysql\n",
    "    -- SUA RESPOSTA AQUI!\n",
    "```\n",
    "\n",
    "</div>"
   ]
  },
  {
   "cell_type": "code",
   "execution_count": 21,
   "id": "81d6576a",
   "metadata": {},
   "outputs": [
    {
     "name": "stdout",
     "output_type": "stream",
     "text": [
      "Executando query:\n"
     ]
    }
   ],
   "source": [
    "db('UPDATE lotes SET Tamanho = 3.5 WHERE Tamanho = 3;')"
   ]
  },
  {
   "cell_type": "markdown",
   "id": "3a65c3e6",
   "metadata": {},
   "source": [
    "**c.** Como obter o id do lote em uma **aplicação real**? É realista pedir ao usuário que decore o id de cada lote?"
   ]
  },
  {
   "cell_type": "markdown",
   "id": "fcebb022",
   "metadata": {},
   "source": [
    "<div class=\"alert alert-success\">\n",
    "\n",
    "Dê dois cliques e edite! Sua resposta AQUI!\n",
    "\n",
    "</div>"
   ]
  },
  {
   "cell_type": "code",
   "execution_count": 31,
   "id": "b2090c51",
   "metadata": {},
   "outputs": [
    {
     "name": "stdout",
     "output_type": "stream",
     "text": [
      "Executando query:\n",
      "(3,)\n",
      "(4,)\n",
      "(5,)\n"
     ]
    }
   ],
   "source": [
    "db('SELECT idLotes FROM lotes INNER JOIN fazenda WHERE fazenda.Nome = \"Fazenda\"')"
   ]
  },
  {
   "cell_type": "markdown",
   "id": "f82befda",
   "metadata": {},
   "source": [
    "**Exercício 5**: Escreva queries para as seguintes tarefas:\n",
    "    \n",
    "**a.** Qual a maior fazenda?"
   ]
  },
  {
   "cell_type": "markdown",
   "id": "bc8fd8c5",
   "metadata": {},
   "source": [
    "<div class=\"alert alert-success\">\n",
    "\n",
    "Dê dois cliques e edite!\n",
    "    \n",
    "```mysql\n",
    "    -- SUA RESPOSTA AQUI!\n",
    "```\n",
    "\n",
    "</div>"
   ]
  },
  {
   "cell_type": "code",
   "execution_count": 54,
   "id": "040b5517",
   "metadata": {},
   "outputs": [
    {
     "name": "stdout",
     "output_type": "stream",
     "text": [
      "Executando query:\n",
      "(3, Decimal('3.50'), 3, 1, 1)\n",
      "(4, Decimal('4.00'), 3, 1, 1)\n",
      "(5, Decimal('5.00'), 3, 1, 1)\n",
      "(6, Decimal('4.00'), 5, 1, 1)\n"
     ]
    }
   ],
   "source": [
    "db('SELECT * FROM lotes')"
   ]
  },
  {
   "cell_type": "code",
   "execution_count": 60,
   "id": "4cc6ac5a",
   "metadata": {},
   "outputs": [
    {
     "name": "stdout",
     "output_type": "stream",
     "text": [
      "Executando query:\n",
      "('Fazenda da Grama',)\n"
     ]
    }
   ],
   "source": [
    "db('SELECT fazenda.Nome FROM fazenda INNER JOIN lotes ON lotes.fazenda_idFazenda = fazenda.idFazenda WHERE Tamanho = (SELECT MAX(Tamanho) FROM lotes)')"
   ]
  },
  {
   "cell_type": "markdown",
   "id": "ab20c9ea",
   "metadata": {},
   "source": [
    "**b.** Quais as plantações com área total maior que 10 hectares?"
   ]
  },
  {
   "cell_type": "markdown",
   "id": "39db47c4",
   "metadata": {},
   "source": [
    "<div class=\"alert alert-success\">\n",
    "\n",
    "Dê dois cliques e edite!\n",
    "    \n",
    "```mysql\n",
    "    -- SUA RESPOSTA AQUI!\n",
    "```\n",
    "\n",
    "</div>"
   ]
  },
  {
   "cell_type": "markdown",
   "id": "c4d09cb0",
   "metadata": {},
   "source": [
    "**c.** Qual o custo total atual com inseticidas?"
   ]
  },
  {
   "cell_type": "markdown",
   "id": "191503f2",
   "metadata": {},
   "source": [
    "<div class=\"alert alert-success\">\n",
    "\n",
    "Dê dois cliques e edite!\n",
    "    \n",
    "```mysql\n",
    "    -- SUA RESPOSTA AQUI!\n",
    "```\n",
    "\n",
    "</div>"
   ]
  },
  {
   "cell_type": "markdown",
   "id": "63319cda",
   "metadata": {},
   "source": [
    "**d.** Quais inseticidas não foram usados?"
   ]
  },
  {
   "cell_type": "markdown",
   "id": "b3f13a83",
   "metadata": {},
   "source": [
    "<div class=\"alert alert-success\">\n",
    "\n",
    "Dê dois cliques e edite!\n",
    "    \n",
    "```mysql\n",
    "    -- SUA RESPOSTA AQUI!\n",
    "```\n",
    "\n",
    "</div>"
   ]
  },
  {
   "cell_type": "markdown",
   "id": "fda4c100",
   "metadata": {},
   "source": [
    "**e.** Qual o menor custo possível com inseticidas?"
   ]
  },
  {
   "cell_type": "markdown",
   "id": "1fdf8628",
   "metadata": {},
   "source": [
    "<div class=\"alert alert-success\">\n",
    "\n",
    "Dê dois cliques e edite!\n",
    "    \n",
    "```mysql\n",
    "    -- SUA RESPOSTA AQUI!\n",
    "```\n",
    "\n",
    "</div>"
   ]
  },
  {
   "cell_type": "markdown",
   "id": "2f2fbaba",
   "metadata": {},
   "source": [
    "**f.** Escreva a query mais cruel que você consegue imaginar! 😊"
   ]
  },
  {
   "cell_type": "markdown",
   "id": "cfc9e03e",
   "metadata": {},
   "source": [
    "<div class=\"alert alert-success\">\n",
    "\n",
    "Dê dois cliques e edite!\n",
    "    \n",
    "```mysql\n",
    "    -- SUA RESPOSTA AQUI!\n",
    "```\n",
    "\n",
    "</div>"
   ]
  }
 ],
 "metadata": {
  "kernelspec": {
   "display_name": "Python 3 (ipykernel)",
   "language": "python",
   "name": "python3"
  },
  "language_info": {
   "codemirror_mode": {
    "name": "ipython",
    "version": 3
   },
   "file_extension": ".py",
   "mimetype": "text/x-python",
   "name": "python",
   "nbconvert_exporter": "python",
   "pygments_lexer": "ipython3",
   "version": "3.9.13"
  }
 },
 "nbformat": 4,
 "nbformat_minor": 5
}
