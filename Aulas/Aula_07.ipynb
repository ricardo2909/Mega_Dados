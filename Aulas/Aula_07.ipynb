{
 "cells": [
  {
   "cell_type": "markdown",
   "metadata": {
    "tags": []
   },
   "source": [
    "# Mais sobre `SELECT `: agrupamento, subqueries"
   ]
  },
  {
   "cell_type": "markdown",
   "metadata": {},
   "source": [
    "## Introdução"
   ]
  },
  {
   "cell_type": "markdown",
   "metadata": {},
   "source": [
    "Vamos continuar nossa investigação sobre o comando `SELECT`. Desta vez usaremos a base de dados 'sakila', uma famosa base de dados de teste construída pelos autores do MySQL. \n",
    "\n",
    "Abra a URL [`https://dev.mysql.com/doc/sakila/en/`](https://dev.mysql.com/doc/sakila/en/) para conhecer melhor esta base de dados, que modela uma locadora de DVDs (riam, vocês também serão velhos um dia!). Se você não possui esta base, siga as instruções de instalação na página.\n",
    "\n",
    "Vamos também construir nosso objeto auxiliar para conectar com a base de dados, como fizemos na última aula."
   ]
  },
  {
   "cell_type": "code",
   "execution_count": 2,
   "metadata": {
    "tags": []
   },
   "outputs": [],
   "source": [
    "from functools import partial\n",
    "import mysql.connector\n",
    "\n",
    "connection = mysql.connector.connect(\n",
    "    host='localhost',\n",
    "    user='root',\n",
    "    password='2909',\n",
    "    database='sakila',\n",
    "    sql_mode='only_full_group_by',\n",
    ")\n",
    "\n",
    "\n",
    "def run_db_query(connection, query, args=None):\n",
    "    with connection.cursor() as cursor:\n",
    "        print('Executando query:')\n",
    "        cursor.execute(query, args)\n",
    "        for result in cursor:\n",
    "            print(result)\n",
    "\n",
    "\n",
    "db = partial(run_db_query, connection)"
   ]
  },
  {
   "cell_type": "markdown",
   "metadata": {},
   "source": [
    "## Aquecimento"
   ]
  },
  {
   "cell_type": "markdown",
   "metadata": {},
   "source": [
    "Quais os nomes das categorias de filme?"
   ]
  },
  {
   "cell_type": "code",
   "execution_count": 9,
   "metadata": {},
   "outputs": [
    {
     "name": "stdout",
     "output_type": "stream",
     "text": [
      "Executando query:\n",
      "('actor',)\n",
      "('actor_info',)\n",
      "('address',)\n",
      "('category',)\n",
      "('city',)\n",
      "('country',)\n",
      "('customer',)\n",
      "('customer_list',)\n",
      "('film',)\n",
      "('film_actor',)\n",
      "('film_category',)\n",
      "('film_list',)\n",
      "('film_text',)\n",
      "('inventory',)\n",
      "('language',)\n",
      "('nicer_but_slower_film_list',)\n",
      "('payment',)\n",
      "('rental',)\n",
      "('sales_by_film_category',)\n",
      "('sales_by_store',)\n",
      "('staff',)\n",
      "('staff_list',)\n",
      "('store',)\n"
     ]
    }
   ],
   "source": [
    "db('SHOW TABLES')"
   ]
  },
  {
   "cell_type": "code",
   "execution_count": 15,
   "metadata": {},
   "outputs": [
    {
     "name": "stdout",
     "output_type": "stream",
     "text": [
      "Executando query:\n",
      "('Action',)\n",
      "('Animation',)\n",
      "('Children',)\n",
      "('Classics',)\n",
      "('Comedy',)\n",
      "('Documentary',)\n",
      "('Drama',)\n",
      "('Family',)\n",
      "('Foreign',)\n",
      "('Games',)\n",
      "('Horror',)\n",
      "('Music',)\n",
      "('New',)\n",
      "('Sci-Fi',)\n",
      "('Sports',)\n",
      "('Travel',)\n"
     ]
    }
   ],
   "source": [
    "db('SELECT name FROM category')"
   ]
  },
  {
   "cell_type": "markdown",
   "metadata": {},
   "source": [
    "Quais atores tem as iniciais \"J.D.\"?"
   ]
  },
  {
   "cell_type": "code",
   "execution_count": 18,
   "metadata": {},
   "outputs": [
    {
     "name": "stdout",
     "output_type": "stream",
     "text": [
      "Executando query:\n",
      "('JENNIFER', 'DAVIS')\n",
      "('JUDY', 'DEAN')\n",
      "('JODIE', 'DEGENERES')\n",
      "('JULIANNE', 'DENCH')\n"
     ]
    }
   ],
   "source": [
    "db('SELECT first_name, last_name FROM actor where first_name like \"J%\" and last_name like \"D%\"')"
   ]
  },
  {
   "cell_type": "markdown",
   "metadata": {},
   "source": [
    "Liste as cidades brasileiras presentes na base de dados."
   ]
  },
  {
   "cell_type": "code",
   "execution_count": 33,
   "metadata": {},
   "outputs": [
    {
     "name": "stdout",
     "output_type": "stream",
     "text": [
      "Executando query:\n",
      "('Alvorada',)\n",
      "('Angra dos Reis',)\n",
      "('Anápolis',)\n",
      "('Aparecida de Goiânia',)\n",
      "('Araçatuba',)\n",
      "('Bagé',)\n",
      "('Belém',)\n",
      "('Blumenau',)\n",
      "('Boa Vista',)\n",
      "('Brasília',)\n",
      "('Goiânia',)\n",
      "('Guarujá',)\n",
      "('Águas Lindas de Goiás',)\n",
      "('Ibirité',)\n",
      "('Juazeiro do Norte',)\n",
      "('Juiz de Fora',)\n",
      "('Luziânia',)\n",
      "('Maringá',)\n",
      "('Poá',)\n",
      "('Poços de Caldas',)\n",
      "('Rio Claro',)\n",
      "('Santa Brbara dOeste',)\n",
      "('Santo André',)\n",
      "('São Bernardo do Campo',)\n",
      "('São Leopoldo',)\n",
      "('Sorocaba',)\n",
      "('Vila Velha',)\n",
      "('Vitória de Santo Antão',)\n"
     ]
    }
   ],
   "source": [
    "db('SELECT city FROM city INNER JOIN country USING (country_id) WHERE country = \"Brazil\"')\n"
   ]
  },
  {
   "cell_type": "markdown",
   "metadata": {},
   "source": [
    "*Quantas* cidades brasileiras tem na base de dados?"
   ]
  },
  {
   "cell_type": "code",
   "execution_count": 35,
   "metadata": {},
   "outputs": [
    {
     "name": "stdout",
     "output_type": "stream",
     "text": [
      "Executando query:\n",
      "(28,)\n"
     ]
    }
   ],
   "source": [
    "db('SELECT COUNT(city) FROM city INNER JOIN country USING (country_id) WHERE country = \"Brazil\"')"
   ]
  },
  {
   "cell_type": "markdown",
   "metadata": {},
   "source": [
    "Liste os filmes do ator (fictício) \"Dan Harris\""
   ]
  },
  {
   "cell_type": "code",
   "execution_count": 36,
   "metadata": {},
   "outputs": [
    {
     "name": "stdout",
     "output_type": "stream",
     "text": [
      "Executando query:\n",
      "('BEDAZZLED MARRIED',)\n",
      "('BOONDOCK BALLROOM',)\n",
      "('DESTINY SATURDAY',)\n",
      "('DIVINE RESURRECTION',)\n",
      "('EYES DRIVING',)\n",
      "('FELLOWSHIP AUTUMN',)\n",
      "('GHOST GROUNDHOG',)\n",
      "('GROOVE FICTION',)\n",
      "('HILLS NEIGHBORS',)\n",
      "('HOLIDAY GAMES',)\n",
      "('INDEPENDENCE HOTEL',)\n",
      "('INSIDER ARIZONA',)\n",
      "('JADE BUNCH',)\n",
      "('LIES TREATMENT',)\n",
      "('MONTEREY LABYRINTH',)\n",
      "('REUNION WITCHES',)\n",
      "('RUN PACIFIC',)\n",
      "('SCHOOL JACKET',)\n",
      "('SEVEN SWARM',)\n",
      "('SIEGE MADRE',)\n",
      "('STEERS ARMAGEDDON',)\n",
      "('STRAIGHT HOURS',)\n",
      "('SUMMER SCARFACE',)\n",
      "('SUPERFLY TRIP',)\n",
      "('TITANIC BOONDOCK',)\n",
      "('TITANS JERK',)\n",
      "('VANISHING ROCKY',)\n",
      "('WATERSHIP FRONTIER',)\n"
     ]
    }
   ],
   "source": [
    "db('SELECT title FROM film INNER JOIN film_actor USING (film_id) INNER JOIN actor USING (actor_id) WHERE first_name = \"Dan\" and last_name = \"Harris\"')"
   ]
  },
  {
   "cell_type": "markdown",
   "metadata": {},
   "source": [
    "Quais filmes estão alugados por Florence Woods?"
   ]
  },
  {
   "cell_type": "code",
   "execution_count": 42,
   "metadata": {},
   "outputs": [
    {
     "name": "stdout",
     "output_type": "stream",
     "text": [
      "Executando query:\n",
      "('SLEEPY JAPANESE',)\n",
      "('CHARADE DUFFEL',)\n",
      "('MIGHTY LUCK',)\n",
      "('MASSACRE USUAL',)\n",
      "('PEAK FOREVER',)\n",
      "('SALUTE APOLLO',)\n",
      "('WEEKEND PERSONAL',)\n",
      "('MALLRATS UNITED',)\n",
      "('RIVER OUTLAW',)\n",
      "('PITY BOUND',)\n",
      "('DEER VIRGINIAN',)\n",
      "('KRAMER CHOCOLATE',)\n",
      "('BINGO TALENTED',)\n",
      "('RIDER CADDYSHACK',)\n",
      "('HORROR REIGN',)\n",
      "('GABLES METROPOLIS',)\n",
      "('BROOKLYN DESERT',)\n",
      "('GUYS FALCON',)\n",
      "('SATURN NAME',)\n",
      "('WARS PLUTO',)\n",
      "('INDIAN LOVE',)\n",
      "('SPINAL ROCKY',)\n",
      "('ICE CROSSING',)\n",
      "('PET HAUNTING',)\n",
      "('CLUB GRAFFITI',)\n",
      "('VANILLA DAY',)\n",
      "('CINCINATTI WHISPERER',)\n",
      "('SCALAWAG DUCK',)\n",
      "('BLADE POLISH',)\n",
      "('SHOOTIST SUPERFLY',)\n"
     ]
    }
   ],
   "source": [
    "db('''\n",
    "SELECT\n",
    "    title\n",
    "FROM\n",
    "    customer\n",
    "    INNER JOIN rental USING(customer_id)\n",
    "    INNER JOIN inventory USING(inventory_id)\n",
    "    INNER JOIN film USING(film_id)\n",
    "WHERE\n",
    "    (first_name = \"Florence\") and (last_name = \"Woods\")\n",
    "''')"
   ]
  },
  {
   "cell_type": "markdown",
   "metadata": {},
   "source": [
    "Para quais línguas não tem nenhum filme na locadora? (Dica: use `LEFT OUTER JOIN`.)"
   ]
  },
  {
   "cell_type": "code",
   "execution_count": 52,
   "metadata": {},
   "outputs": [
    {
     "name": "stdout",
     "output_type": "stream",
     "text": [
      "Executando query:\n",
      "('Italian', None)\n",
      "('Japanese', None)\n",
      "('Mandarin', None)\n",
      "('French', None)\n",
      "('German', None)\n"
     ]
    }
   ],
   "source": [
    "db('''SELECT\n",
    "    name,title\n",
    "FROM\n",
    "film\n",
    "RIGHT OUTER JOIN language USING(language_id)\n",
    "where\n",
    "title is null\n",
    "''')"
   ]
  },
  {
   "cell_type": "markdown",
   "metadata": {},
   "source": [
    "## `DISTINCT`\n",
    "As vezes desejamos consultar quais os valores distintos de uma coluna. Para isso usamos o qualificador `DISTINCT`. \n",
    "\n",
    "Por exemplo: Quais os anos de lançamento dos filmes da base? "
   ]
  },
  {
   "cell_type": "code",
   "execution_count": 3,
   "metadata": {
    "scrolled": true
   },
   "outputs": [
    {
     "name": "stdout",
     "output_type": "stream",
     "text": [
      "Executando query:\n",
      "(2006,)\n",
      "(2006,)\n",
      "(2006,)\n",
      "(2006,)\n",
      "(2006,)\n",
      "(2006,)\n",
      "(2006,)\n",
      "(2006,)\n",
      "(2006,)\n",
      "(2006,)\n",
      "(2006,)\n",
      "(2006,)\n",
      "(2006,)\n",
      "(2006,)\n",
      "(2006,)\n",
      "(2006,)\n",
      "(2006,)\n",
      "(2006,)\n",
      "(2006,)\n",
      "(2006,)\n"
     ]
    }
   ],
   "source": [
    "# Vai aparecer muitas cópias de '(2006,)'\n",
    "db('SELECT release_year FROM film LIMIT 20')"
   ]
  },
  {
   "cell_type": "markdown",
   "metadata": {},
   "source": [
    "Ops, parece que não tem muita variedade nesta base! Usando `DISTINCT` podemos limpar esse resultado:"
   ]
  },
  {
   "cell_type": "code",
   "execution_count": 4,
   "metadata": {},
   "outputs": [
    {
     "name": "stdout",
     "output_type": "stream",
     "text": [
      "Executando query:\n",
      "(2006,)\n"
     ]
    }
   ],
   "source": [
    "db('SELECT DISTINCT release_year FROM film')"
   ]
  },
  {
   "cell_type": "markdown",
   "metadata": {},
   "source": [
    "### Praticando"
   ]
  },
  {
   "cell_type": "markdown",
   "metadata": {},
   "source": [
    "Quais clientes estão alugando um DVD agora?"
   ]
  },
  {
   "cell_type": "code",
   "execution_count": 8,
   "metadata": {},
   "outputs": [
    {
     "name": "stdout",
     "output_type": "stream",
     "text": [
      "Executando query:\n",
      "('GAIL', 'KNIGHT')\n",
      "('GREGORY', 'MAULDIN')\n",
      "('LOUISE', 'JENKINS')\n",
      "('WILLIE', 'HOWELL')\n",
      "('EMILY', 'DIAZ')\n",
      "('LAURIE', 'LAWRENCE')\n",
      "('LISA', 'ANDERSON')\n",
      "('FREDDIE', 'DUGGAN')\n",
      "('HEATHER', 'MORRIS')\n",
      "('ROLAND', 'SOUTH')\n",
      "('NATALIE', 'MEYER')\n",
      "('SCOTT', 'SHELLEY')\n",
      "('LOUIS', 'LEONE')\n",
      "('CATHY', 'SPENCER')\n",
      "('GUY', 'BROWNLEE')\n",
      "('JUSTIN', 'NGO')\n",
      "('JERRY', 'JORDON')\n",
      "('ALICIA', 'MILLS')\n",
      "('JEANNE', 'LAWSON')\n",
      "('DUSTIN', 'GILLETTE')\n",
      "('MORRIS', 'MCCARTER')\n",
      "('JUDY', 'GRAY')\n",
      "('JULIE', 'SANCHEZ')\n",
      "('RAMONA', 'HALE')\n",
      "('SONIA', 'GREGORY')\n",
      "('MARGIE', 'WADE')\n",
      "('ZACHARY', 'HITE')\n",
      "('JORDAN', 'ARCHULETA')\n",
      "('ANDY', 'VANHORN')\n",
      "('ELMER', 'NOE')\n",
      "('PEGGY', 'MYERS')\n",
      "('SERGIO', 'STANFIELD')\n",
      "('LAURA', 'RODRIGUEZ')\n",
      "('ANNA', 'HILL')\n",
      "('GAIL', 'KNIGHT')\n",
      "('MARILYN', 'ROSS')\n",
      "('MILDRED', 'BAILEY')\n",
      "('GRACE', 'ELLIS')\n",
      "('BARRY', 'LOVELACE')\n",
      "('EDWARD', 'BAUGH')\n",
      "('CASSANDRA', 'WALTERS')\n",
      "('BILL', 'GAVIN')\n",
      "('CURTIS', 'IRBY')\n",
      "('ALLISON', 'STANLEY')\n",
      "('COURTNEY', 'DAY')\n",
      "('GILBERT', 'SLEDGE')\n",
      "('IVAN', 'CROMWELL')\n",
      "('WANDA', 'PATTERSON')\n",
      "('VIOLA', 'HANSON')\n",
      "('STACEY', 'MONTGOMERY')\n",
      "('JUSTIN', 'NGO')\n",
      "('CECIL', 'VINES')\n",
      "('LEONARD', 'SCHOFIELD')\n",
      "('CRAIG', 'MORRELL')\n",
      "('MARION', 'SNYDER')\n",
      "('STACY', 'CUNNINGHAM')\n",
      "('LOIS', 'BUTLER')\n",
      "('ELMER', 'NOE')\n",
      "('CYNTHIA', 'YOUNG')\n",
      "('SONIA', 'GREGORY')\n",
      "('NATALIE', 'MEYER')\n",
      "('MARCIA', 'DEAN')\n",
      "('ANA', 'BRADLEY')\n",
      "('JOSHUA', 'MARK')\n",
      "('CASSANDRA', 'WALTERS')\n",
      "('WENDY', 'HARRISON')\n",
      "('FLORENCE', 'WOODS')\n",
      "('BERNARD', 'COLBY')\n",
      "('BEVERLY', 'BROOKS')\n",
      "('ANNETTE', 'OLSON')\n",
      "('CHRIS', 'BROTHERS')\n",
      "('TYLER', 'WREN')\n",
      "('ELIZABETH', 'BROWN')\n",
      "('NORMAN', 'CURRIER')\n",
      "('TRAVIS', 'ESTEP')\n",
      "('TAMARA', 'NGUYEN')\n",
      "('LAWRENCE', 'LAWTON')\n",
      "('JUDITH', 'COX')\n",
      "('CAROLYN', 'PEREZ')\n",
      "('COLLEEN', 'BURTON')\n",
      "('JUANITA', 'MASON')\n",
      "('CLINTON', 'BUFORD')\n",
      "('BRANDON', 'HUEY')\n",
      "('MARIE', 'TURNER')\n",
      "('MORRIS', 'MCCARTER')\n",
      "('NAOMI', 'JENNINGS')\n",
      "('TAMMY', 'SANDERS')\n",
      "('DIANNE', 'SHELTON')\n",
      "('DARRYL', 'ASHCRAFT')\n",
      "('MIGUEL', 'BETANCOURT')\n",
      "('ALBERT', 'CROUSE')\n",
      "('ALLAN', 'CORNISH')\n",
      "('JOEL', 'FRANCISCO')\n",
      "('MARGIE', 'WADE')\n",
      "('LUCY', 'WHEELER')\n",
      "('CHARLIE', 'BESS')\n",
      "('MATTIE', 'HOFFMAN')\n",
      "('BETTY', 'WHITE')\n",
      "('HELEN', 'HARRIS')\n",
      "('FRED', 'WHEAT')\n",
      "('DERRICK', 'BOURQUE')\n",
      "('BETH', 'FRANKLIN')\n",
      "('GARY', 'COY')\n",
      "('HELEN', 'HARRIS')\n",
      "('JESSIE', 'MILAM')\n",
      "('ANNETTE', 'OLSON')\n",
      "('DWAYNE', 'OLVERA')\n",
      "('VICKIE', 'BREWER')\n",
      "('HEATHER', 'MORRIS')\n",
      "('BRENT', 'HARKINS')\n",
      "('JAY', 'ROBB')\n",
      "('TOM', 'MILNER')\n",
      "('BECKY', 'MILES')\n",
      "('HOLLY', 'FOX')\n",
      "('RAYMOND', 'MCWHORTER')\n",
      "('LAUREN', 'HUDSON')\n",
      "('GWENDOLYN', 'MAY')\n",
      "('CORY', 'MEEHAN')\n",
      "('FELIX', 'GAFFNEY')\n",
      "('MILTON', 'HOWLAND')\n",
      "('JEANETTE', 'GREENE')\n",
      "('GINA', 'WILLIAMSON')\n",
      "('IAN', 'STILL')\n",
      "('JORDAN', 'ARCHULETA')\n",
      "('KENNETH', 'GOODEN')\n",
      "('TAMMY', 'SANDERS')\n",
      "('MELANIE', 'ARMSTRONG')\n",
      "('BILL', 'GAVIN')\n",
      "('CHRISTIAN', 'JUNG')\n",
      "('ALBERTO', 'HENNING')\n",
      "('PERRY', 'SWAFFORD')\n",
      "('TERRANCE', 'ROUSH')\n",
      "('NEIL', 'RENNER')\n",
      "('MIGUEL', 'BETANCOURT')\n",
      "('MILDRED', 'BAILEY')\n",
      "('TERRY', 'GRISSOM')\n",
      "('LAWRENCE', 'LAWTON')\n",
      "('MARIO', 'CHEATHAM')\n",
      "('JOE', 'GILLILAND')\n",
      "('GREG', 'ROBINS')\n",
      "('MICHELLE', 'CLARK')\n",
      "('ADRIAN', 'CLARY')\n",
      "('ROBIN', 'HAYES')\n",
      "('KYLE', 'SPURLOCK')\n",
      "('YOLANDA', 'WEAVER')\n",
      "('TAMMY', 'SANDERS')\n",
      "('ALLISON', 'STANLEY')\n",
      "('CATHY', 'SPENCER')\n",
      "('HILDA', 'HOPKINS')\n",
      "('TRACY', 'COLE')\n",
      "('LARRY', 'THRASHER')\n",
      "('ALLEN', 'BUTTERFIELD')\n",
      "('JEAN', 'BELL')\n",
      "('NORMA', 'GONZALES')\n",
      "('CAROLYN', 'PEREZ')\n",
      "('ENRIQUE', 'FORSYTHE')\n",
      "('JENNY', 'CASTRO')\n",
      "('MELVIN', 'ELLINGTON')\n",
      "('APRIL', 'BURNS')\n",
      "('SETH', 'HANNON')\n",
      "('FLORENCE', 'WOODS')\n",
      "('SARAH', 'LEWIS')\n",
      "('CARMEN', 'OWENS')\n",
      "('ANGELA', 'HERNANDEZ')\n",
      "('CHRISTINE', 'ROBERTS')\n",
      "('KRISTIN', 'JOHNSTON')\n",
      "('WILLIE', 'MARKHAM')\n",
      "('JOHN', 'FARNSWORTH')\n",
      "('LEE', 'HAWKS')\n",
      "('GLORIA', 'COOK')\n",
      "('LUCY', 'WHEELER')\n",
      "('KATIE', 'ELLIOTT')\n",
      "('DAISY', 'BATES')\n",
      "('CHRISTINE', 'ROBERTS')\n",
      "('CLAUDIA', 'FULLER')\n",
      "('SYLVIA', 'ORTIZ')\n",
      "('DARYL', 'LARUE')\n",
      "('MARGARET', 'MOORE')\n",
      "('JESSIE', 'BANKS')\n",
      "('RAFAEL', 'ABNEY')\n",
      "('STEPHANIE', 'MITCHELL')\n",
      "('REGINA', 'BERRY')\n",
      "('JEREMY', 'HURTADO')\n"
     ]
    }
   ],
   "source": [
    "db('SELECT first_name, last_name FROM customer INNER JOIN rental USING(customer_id) WHERE return_date IS NULL')"
   ]
  },
  {
   "cell_type": "markdown",
   "metadata": {},
   "source": [
    "## Agrupamento"
   ]
  },
  {
   "cell_type": "markdown",
   "metadata": {},
   "source": [
    "Uma das características mais valiosas de banco de dados é o *agrupamento*. Podemos agrupar os resultados de uma query indicando uma coluna cujos valores serão usados para agrupar os dados.\n",
    "\n",
    "Por exemplo, considere a seguinte tabela, que chamaremos de 'vendas':\n",
    "\n",
    "| id | id_item | item | preco |\n",
    "|--|--|--|--|\n",
    "| 1 | 1 | A | 5 |\n",
    "| 2 | 2 | B | 6 |\n",
    "| 3 | 1 | A | 3 |\n",
    "| 4 | 3 | C | 7 |\n",
    "| 5 | 3 | C | 5 |\n",
    "| 6 | 1 | A | 2 |\n",
    "\n",
    "Se agruparmos pela coluna 'id_item' teremos 3 conjuntos de resultados:\n",
    "\n",
    "id_item = 1:\n",
    "\n",
    "| id | id_item | item | preco |\n",
    "|--|--|--|--|\n",
    "| 1 | 1 | A | 5 |\n",
    "| 3 | 1 | A | 3 |\n",
    "| 6 | 1 | A | 2 |\n",
    "\n",
    "id_item = 2:\n",
    "\n",
    "| id | id_item | item | preco |\n",
    "|--|--|--|--|\n",
    "| 2 | 2 | B | 6 |\n",
    "\n",
    "id_item = 3:\n",
    "\n",
    "| id | id_item | item | preco |\n",
    "|--|--|--|--|\n",
    "| 4 | 3 | C | 7 |\n",
    "| 5 | 3 | C | 5 |\n",
    "\n",
    "É como se tivessemos uma lista de tabelas! Isso não é permitido em SQL. Temos que 'resumir' a informação de cada uma das tabelas a uma linha só, o que significa que, para cada coluna, devemos escolher uma dessas opções:\n",
    "- Resumir a informação da coluna usando uma função de grupo. Podemos somar, tirar a média, contar itens, concatená-los em uma única string, entre outras;\n",
    "- Para colunas que se relacionam 1 para 1 com a coluna de agrupamento (como a coluna de agrupamento em si, ou a coluna 'item' neste exemplo), manter este valor. Isso acontece frequentemente quando fazemos `JOIN`.\n",
    "- Não incluir a coluna, caso contrário.\n",
    "\n",
    "Neste exemplo, podemos tomar a seguinte decisão para cada coluna:\n",
    "- id: descartar\n",
    "- id_item: manter valor\n",
    "- item: manter valor\n",
    "- preco: vamos calcular a soma dos valores, e renomear esta informação para 'total'\n",
    "\n",
    "Com isso, obtemos a seguinte tabela:\n",
    "\n",
    "| id_item | item | total |\n",
    "|--|--|--|\n",
    "| 1 | A | 10 |\n",
    "| 2 | B | 6 |\n",
    "| 3 | C | 12 |\n",
    "\n",
    "Por fim, se não queremos id_item, ficamos com a seguinte tabela:\n",
    "\n",
    "| item | total |\n",
    "|--|--|\n",
    "| A | 10 |\n",
    "| B | 6 |\n",
    "| C | 12 |\n",
    "\n",
    "Para obter essa tabela podemos usar o seguinte comando SQL:\n",
    "\n",
    "```SQL\n",
    "SELECT \n",
    "    item, SUM(preco) as total \n",
    "FROM \n",
    "    vendas\n",
    "GROUP BY\n",
    "    id_item\n",
    "```\n",
    "\n",
    "Consulte o capítulo 9 do seu livro texto para conhecer mais sobre agrupamentos."
   ]
  },
  {
   "cell_type": "markdown",
   "metadata": {},
   "source": [
    "### Praticando"
   ]
  },
  {
   "cell_type": "markdown",
   "metadata": {},
   "source": [
    "Quais os 10 atores que mais apareceram em filmes?"
   ]
  },
  {
   "cell_type": "code",
   "execution_count": 13,
   "metadata": {},
   "outputs": [
    {
     "name": "stdout",
     "output_type": "stream",
     "text": [
      "Executando query:\n",
      "('GINA', 'DEGENERES')\n",
      "('WALTER', 'TORN')\n",
      "('MARY', 'KEITEL')\n",
      "('MATTHEW', 'CARREY')\n",
      "('SANDRA', 'KILMER')\n",
      "('SCARLETT', 'DAMON')\n",
      "('VAL', 'BOLGER')\n",
      "('VIVIEN', 'BASINGER')\n",
      "('GROUCHO', 'DUNST')\n",
      "('UMA', 'WOOD')\n"
     ]
    }
   ],
   "source": [
    "#Quais os 10 atores que mais apareceram em filmes?\n",
    "db('SELECT first_name, last_name FROM actor INNER JOIN film_actor USING(actor_id) INNER JOIN film USING(film_id) GROUP BY actor_id ORDER BY COUNT(*) DESC LIMIT 10')"
   ]
  },
  {
   "cell_type": "markdown",
   "metadata": {},
   "source": [
    "## Pipeline do comando `SELECT`"
   ]
  },
  {
   "cell_type": "markdown",
   "metadata": {},
   "source": [
    "Uma versão mais completa do `SELECT` (mas não inteiramente completa - consulte o manual do MySQL) é vista abaixo:\n",
    "\n",
    "```mysql\n",
    "SELECT [DISTINCT] <select_header> \n",
    "FROM <source_tables>\n",
    "WHERE <filter_expression>\n",
    "GROUP BY <grouping_expressions>\n",
    "HAVING <filter_expression>\n",
    "ORDER BY <ordering_expressions>\n",
    "LIMIT <count> \n",
    "OFFSET <count>\n",
    "```\n",
    "\n",
    "Você já deve ter percebido que o comando `SELECT` tem uma sequência própria de avaliação. Por exemplo, para saber quais filmes custam mais que 3 dinheiros, podemos escrever:"
   ]
  },
  {
   "cell_type": "code",
   "execution_count": 14,
   "metadata": {},
   "outputs": [
    {
     "name": "stdout",
     "output_type": "stream",
     "text": [
      "Executando query:\n",
      "(336,)\n"
     ]
    }
   ],
   "source": [
    "db('''\n",
    "SELECT \n",
    "    COUNT(f.rental_rate)\n",
    "FROM\n",
    "    film f\n",
    "WHERE\n",
    "    f.rental_rate > 3\n",
    "''')"
   ]
  },
  {
   "cell_type": "markdown",
   "metadata": {},
   "source": [
    "Observe que o 'apelido' f para a tabela 'film' é definido na cláusula `FROM`, mas usado em `SELECT` e também em `WHERE`.\n",
    "\n",
    "A ordem de execução do comando `SELECT` é aproximadamente como segue:\n",
    "\n",
    "1. `FROM <source_tables>`: indica as tabelas que serão usadas nesta query e, conceitualmente, combina estas tabelas através de *produto cartesiano* em uma grande tabela. (Note o termo \"*conceitualmente*\" que usei: em termos de implementação da query este produto cartesiano raramente é construído.)\n",
    "\n",
    "2. `WHERE <filter_expression>`: filtra linhas.\n",
    "\n",
    "3. `GROUP BY <grouping_expressions>`: agrupa conjuntos de linhas.\n",
    "\n",
    "4. `SELECT <select_heading>`: escolha de colunas e de agregados.\n",
    "\n",
    "5. `HAVING <filter_expression>`: outra filtragem, esta aplicada apenas **depois** da agregação. Pode usar resultados do processo de agregação. Obriga o uso de `GROUP BY`.\n",
    "\n",
    "6. `DISTINCT`: Elimina linhas duplicadas.\n",
    "\n",
    "7. `ORDER BY`: ordena as linhas do resultado.\n",
    "\n",
    "8. `OFFSET <count>`: Pula linhas do resultado. Requer LIMIT.\n",
    "\n",
    "9. `LIMIT <count>`: Mantém apenas um número máximo de linhas.\n",
    "\n",
    "Esta sequencia também serve como dica de como projetar uma query! \n",
    "- Comece identificando as tabelas que você deseja usar\n",
    "- Monte o filtro de linhas, incluindo critérios de `JOIN`\n",
    "- Agrupe\n",
    "- Selecione colunas e aplique funções de agregação, conforme necessário\n",
    "- Filtre com `HAVING`, agora que temos agregação\n",
    "- O resto é mais fácil, aplique conforme requerido"
   ]
  },
  {
   "cell_type": "markdown",
   "metadata": {},
   "source": [
    "## `WHERE` versus `HAVING`"
   ]
  },
  {
   "cell_type": "markdown",
   "metadata": {},
   "source": [
    "Conforme visto acima, temos a cláusula `HAVING` para fazer filtragens *APÓS* agregação. Para que serve isso? Por exemplo, suponha que queremos saber quais atores não compartilham seu sobrenome com nenhum outro ator. Podemos usar a *query* a seguir:"
   ]
  },
  {
   "cell_type": "code",
   "execution_count": 15,
   "metadata": {
    "scrolled": true
   },
   "outputs": [
    {
     "name": "stdout",
     "output_type": "stream",
     "text": [
      "Executando query:\n",
      "('ANGELINA', 'ASTAIRE')\n",
      "('RUSSELL', 'BACALL')\n",
      "('HARRISON', 'BALE')\n",
      "('RENEE', 'BALL')\n",
      "('JULIA', 'BARRYMORE')\n",
      "('VIVIEN', 'BASINGER')\n",
      "('VIVIEN', 'BERGEN')\n",
      "('LIZA', 'BERGMAN')\n",
      "('CUBA', 'BIRCH')\n",
      "('KEVIN', 'BLOOM')\n",
      "('CHRIS', 'BRIDGES')\n",
      "('LAURENCE', 'BULLOCK')\n",
      "('MATTHEW', 'CARREY')\n",
      "('GREG', 'CHAPLIN')\n",
      "('RUSSELL', 'CLOSE')\n",
      "('FRED', 'COSTNER')\n",
      "('SIDNEY', 'CROWE')\n",
      "('JUDE', 'CRUISE')\n",
      "('RALPH', 'CRUZ')\n",
      "('SCARLETT', 'DAMON')\n",
      "('FRANCES', 'DAY-LEWIS')\n",
      "('SYLVESTER', 'DERN')\n",
      "('ALAN', 'DREYFUSS')\n",
      "('GROUCHO', 'DUNST')\n",
      "('CHRISTIAN', 'GABLE')\n",
      "('MERYL', 'GIBSON')\n",
      "('PARKER', 'GOLDBERG')\n",
      "('ADAM', 'GRANT')\n",
      "('MEG', 'HAWKE')\n",
      "('GEOFFREY', 'HESTON')\n",
      "('HARVEY', 'HOPE')\n",
      "('ANGELA', 'HUDSON')\n",
      "('CARMEN', 'HUNT')\n",
      "('WHOOPI', 'HURT')\n",
      "('WOODY', 'JOLIE')\n",
      "('KIRK', 'JOVOVICH')\n",
      "('MATTHEW', 'LEIGH')\n",
      "('JOHNNY', 'LOLLOBRIGIDA')\n",
      "('GRETA', 'MALDEN')\n",
      "('ED', 'MANSFIELD')\n",
      "('ELVIS', 'MARX')\n",
      "('MORGAN', 'MCDORMAND')\n",
      "('TOM', 'MIRANDA')\n",
      "('BETTE', 'NICHOLSON')\n",
      "('KENNETH', 'PESCI')\n",
      "('OLYMPIA', 'PFEIFFER')\n",
      "('GARY', 'PHOENIX')\n",
      "('PENELOPE', 'PINKETT')\n",
      "('JAMES', 'PITT')\n",
      "('BURT', 'POSEY')\n",
      "('ELLEN', 'PRESLEY')\n",
      "('RITA', 'REYNOLDS')\n",
      "('JADA', 'RYDER')\n",
      "('GROUCHO', 'SINATRA')\n",
      "('SISSY', 'SOBIESKI')\n",
      "('NICK', 'STALLONE')\n",
      "('JOHN', 'SUVARI')\n",
      "('JOE', 'SWANK')\n",
      "('DUSTIN', 'TAUTOU')\n",
      "('FRANCES', 'TOMEI')\n",
      "('HELEN', 'VOIGHT')\n",
      "('BELA', 'WALKEN')\n",
      "('ALEC', 'WAYNE')\n",
      "('WILL', 'WILSON')\n",
      "('ANGELA', 'WITHERSPOON')\n",
      "('CAMERON', 'WRAY')\n"
     ]
    }
   ],
   "source": [
    "db('''\n",
    "SELECT \n",
    "    MIN(a.first_name) as fst_name, a.last_name\n",
    "FROM \n",
    "    actor a \n",
    "GROUP BY \n",
    "    a.last_name\n",
    "HAVING\n",
    "    COUNT(a.first_name) = 1\n",
    "ORDER BY\n",
    "    a.last_name, fst_name\n",
    "''')"
   ]
  },
  {
   "cell_type": "markdown",
   "metadata": {
    "tags": []
   },
   "source": [
    "## Praticando"
   ]
  },
  {
   "cell_type": "markdown",
   "metadata": {},
   "source": [
    "Liste a duração média dos filmes na categoria 'Drama'. Aqui o `GROUP BY` é necessário?"
   ]
  },
  {
   "cell_type": "code",
   "execution_count": 16,
   "metadata": {},
   "outputs": [
    {
     "name": "stdout",
     "output_type": "stream",
     "text": [
      "Executando query:\n",
      "(Decimal('120.8387'),)\n"
     ]
    }
   ],
   "source": [
    "db('SELECT AVG(length) FROM film INNER JOIN film_category USING(film_id) INNER JOIN category USING(category_id) WHERE name = \"Drama\"')"
   ]
  },
  {
   "cell_type": "markdown",
   "metadata": {},
   "source": [
    "Liste o nome da categoria e a duração média dos filmes por categoria."
   ]
  },
  {
   "cell_type": "code",
   "execution_count": 21,
   "metadata": {},
   "outputs": [
    {
     "name": "stdout",
     "output_type": "stream",
     "text": [
      "Executando query:\n",
      "('Action', Decimal('111.6094'))\n",
      "('Animation', Decimal('111.0152'))\n",
      "('Children', Decimal('109.8000'))\n",
      "('Classics', Decimal('111.6667'))\n",
      "('Comedy', Decimal('115.8276'))\n",
      "('Documentary', Decimal('108.7500'))\n",
      "('Drama', Decimal('120.8387'))\n",
      "('Family', Decimal('114.7826'))\n",
      "('Foreign', Decimal('121.6986'))\n",
      "('Games', Decimal('127.8361'))\n",
      "('Horror', Decimal('112.4821'))\n",
      "('Music', Decimal('113.6471'))\n",
      "('New', Decimal('111.1270'))\n",
      "('Sci-Fi', Decimal('108.1967'))\n",
      "('Sports', Decimal('128.2027'))\n",
      "('Travel', Decimal('113.3158'))\n"
     ]
    }
   ],
   "source": [
    "db('SELECT name, AVG(length) FROM film INNER JOIN film_category USING(film_id) INNER JOIN category USING(category_id) GROUP BY name')"
   ]
  },
  {
   "cell_type": "markdown",
   "metadata": {},
   "source": [
    "Liste o nome da categoria e a duração média dos filmes por categoria, apenas para categorias cuja duração média de filme excede 120 minutos."
   ]
  },
  {
   "cell_type": "code",
   "execution_count": 22,
   "metadata": {},
   "outputs": [
    {
     "name": "stdout",
     "output_type": "stream",
     "text": [
      "Executando query:\n",
      "('Drama', Decimal('120.8387'))\n",
      "('Foreign', Decimal('121.6986'))\n",
      "('Games', Decimal('127.8361'))\n",
      "('Sports', Decimal('128.2027'))\n"
     ]
    }
   ],
   "source": [
    "db('SELECT name, AVG(length) FROM film INNER JOIN film_category USING(film_id) INNER JOIN category USING(category_id) GROUP BY name HAVING AVG(length) > 120')"
   ]
  },
  {
   "cell_type": "markdown",
   "metadata": {},
   "source": [
    "# Conclusão"
   ]
  },
  {
   "cell_type": "markdown",
   "metadata": {},
   "source": [
    "Esta aula de hoje foi bastante densa! Dicas de estudo:\n",
    "\n",
    "- Pratique no seu livro-texto, capítulo 9. Lembre-se que a base 'música' pode ser usada para praticar os comandos SQL vistos no livro.\n",
    "- Tente criar queries que sirvam de exemplo para os conceitos do livro! A tarefa de criar exemplos é muito instrutiva!\n",
    "\n",
    "**Leitura prévia**:\n",
    "Para a próxima aula vamos continuar praticando, com os assuntos dos capítulos 10 e 11, prepare-se para a aula, ok?\n",
    "\n",
    "Até a próxima!"
   ]
  },
  {
   "cell_type": "code",
   "execution_count": 23,
   "metadata": {},
   "outputs": [],
   "source": [
    "connection.close()"
   ]
  },
  {
   "cell_type": "code",
   "execution_count": null,
   "metadata": {},
   "outputs": [],
   "source": []
  }
 ],
 "metadata": {
  "kernelspec": {
   "display_name": "Python 3 (ipykernel)",
   "language": "python",
   "name": "python3"
  },
  "language_info": {
   "codemirror_mode": {
    "name": "ipython",
    "version": 3
   },
   "file_extension": ".py",
   "mimetype": "text/x-python",
   "name": "python",
   "nbconvert_exporter": "python",
   "pygments_lexer": "ipython3",
   "version": "3.9.13"
  }
 },
 "nbformat": 4,
 "nbformat_minor": 4
}
