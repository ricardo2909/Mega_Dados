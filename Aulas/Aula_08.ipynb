{
 "cells": [
  {
   "cell_type": "markdown",
   "metadata": {},
   "source": [
    "# Mais sobre `SELECT`\n",
    "\n",
    "- temporary tables\n",
    "- views\n",
    "- variables\n",
    "- subqueries\n"
   ]
  },
  {
   "cell_type": "code",
   "execution_count": 1,
   "metadata": {},
   "outputs": [],
   "source": [
    "import mysql.connector\n",
    "from functools import partial\n",
    "\n",
    "\n",
    "def get_connection_helper():\n",
    "\n",
    "    def run_db_query(connection, query, args=None):\n",
    "        with connection.cursor() as cursor:\n",
    "            print('Executando query:')\n",
    "            cursor.execute(query, args)\n",
    "            for result in cursor:\n",
    "                print(result)\n",
    "\n",
    "    connection = mysql.connector.connect(\n",
    "        host='localhost',\n",
    "        user='root',\n",
    "        password='2909',\n",
    "        database='sakila',\n",
    "    )\n",
    "    return connection, partial(run_db_query, connection)\n",
    "\n",
    "\n",
    "connection, db = get_connection_helper()"
   ]
  },
  {
   "cell_type": "markdown",
   "metadata": {},
   "source": [
    "## Aquecimento"
   ]
  },
  {
   "cell_type": "markdown",
   "metadata": {},
   "source": [
    "Quanta receita foi gerada para cada categoria de filmes? Liste do maior para o menor."
   ]
  },
  {
   "cell_type": "code",
   "execution_count": 10,
   "metadata": {},
   "outputs": [
    {
     "name": "stdout",
     "output_type": "stream",
     "text": [
      "Executando query:\n",
      "('Sports', Decimal('5314.21'))\n",
      "('Sci-Fi', Decimal('4756.98'))\n",
      "('Animation', Decimal('4656.30'))\n",
      "('Drama', Decimal('4587.39'))\n",
      "('Comedy', Decimal('4383.58'))\n",
      "('Action', Decimal('4375.85'))\n",
      "('New', Decimal('4351.62'))\n",
      "('Games', Decimal('4281.33'))\n",
      "('Foreign', Decimal('4270.67'))\n",
      "('Family', Decimal('4226.07'))\n",
      "('Documentary', Decimal('4217.52'))\n",
      "('Horror', Decimal('3722.54'))\n",
      "('Children', Decimal('3655.55'))\n",
      "('Classics', Decimal('3639.59'))\n",
      "('Travel', Decimal('3549.64'))\n",
      "('Music', Decimal('3417.72'))\n"
     ]
    }
   ],
   "source": [
    "db('SELECT name, SUM(amount) FROM category INNER JOIN film_category USING(category_id) INNER JOIN inventory USING(film_id) INNER JOIN rental USING(inventory_id) INNER JOIN payment USING(rental_id) GROUP BY name ORDER BY SUM(amount) DESC')"
   ]
  },
  {
   "cell_type": "markdown",
   "metadata": {},
   "source": [
    "Liste os filmes e o numero de vezes em que foram alugados"
   ]
  },
  {
   "cell_type": "code",
   "execution_count": 11,
   "metadata": {},
   "outputs": [
    {
     "name": "stdout",
     "output_type": "stream",
     "text": [
      "Executando query:\n",
      "('BUCKET BROTHERHOOD', 34)\n",
      "('ROCKETEER MOTHER', 33)\n",
      "('FORWARD TEMPLE', 32)\n",
      "('GRIT CLOCKWORK', 32)\n",
      "('JUGGLER HARDLY', 32)\n",
      "('RIDGEMONT SUBMARINE', 32)\n",
      "('SCALAWAG DUCK', 32)\n",
      "('APACHE DIVINE', 31)\n",
      "('GOODFELLAS SALUTE', 31)\n",
      "('HOBBIT ALIEN', 31)\n",
      "('NETWORK PEAK', 31)\n",
      "('ROBBERS JOON', 31)\n",
      "('RUSH GOODFELLAS', 31)\n",
      "('TIMBERLAND SKY', 31)\n",
      "('WIFE TURN', 31)\n",
      "('ZORRO ARK', 31)\n",
      "('BUTTERFLY CHOCOLAT', 30)\n",
      "('CAT CONEHEADS', 30)\n",
      "('DOGMA FAMILY', 30)\n",
      "('ENGLISH BULWORTH', 30)\n",
      "('FROST HEAD', 30)\n",
      "('GRAFFITI LOVE', 30)\n",
      "('HARRY IDAHO', 30)\n",
      "('IDOLS SNATCHERS', 30)\n",
      "('MARRIED GO', 30)\n",
      "('MASSACRE USUAL', 30)\n",
      "('MUSCLE BRIGHT', 30)\n",
      "('PULP BEVERLY', 30)\n",
      "('RUGRATS SHAKESPEARE', 30)\n",
      "('SHOCK CABIN', 30)\n",
      "('SUSPECTS QUILLS', 30)\n",
      "('WITCHES PANIC', 30)\n",
      "('BINGO TALENTED', 29)\n",
      "('BOOGIE AMELIE', 29)\n",
      "('CONFIDENTIAL INTERVIEW', 29)\n",
      "('DEER VIRGINIAN', 29)\n",
      "('ENEMY ODDS', 29)\n",
      "('FAMILY SWEET', 29)\n",
      "('GLEAMING JAWBREAKER', 29)\n",
      "('GREATEST NORTH', 29)\n",
      "('MOON BUNCH', 29)\n",
      "('STORM HAPPINESS', 29)\n",
      "('SWEETHEARTS SUSPECTS', 29)\n",
      "('TALENTED HOMICIDE', 29)\n",
      "('TITANS JERK', 29)\n",
      "('VIDEOTAPE ARSENIC', 29)\n",
      "('VIRGINIAN PLUTO', 29)\n",
      "('CLOSER BANG', 28)\n",
      "('EXPENDABLE STALLION', 28)\n",
      "('FATAL HAUNTED', 28)\n",
      "('GIANT TROOPERS', 28)\n",
      "('GILMORE BOILED', 28)\n",
      "('HANDICAP BOONDOCK', 28)\n",
      "('ROSES TREASURE', 28)\n",
      "('SATURDAY LAMBS', 28)\n",
      "('STORY SIDE', 28)\n",
      "('TRIP NEWTON', 28)\n",
      "('VOYAGE LEGALLY', 28)\n",
      "('BLACKOUT PRIVATE', 27)\n",
      "('CAMELOT VACATION', 27)\n",
      "('CHANCE RESURRECTION', 27)\n",
      "('CURTAIN VIDEOTAPE', 27)\n",
      "('DANCING FEVER', 27)\n",
      "('DETECTIVE VISION', 27)\n",
      "('DORADO NOTTING', 27)\n",
      "('FORRESTER COMANCHEROS', 27)\n",
      "('GANGS PRIDE', 27)\n",
      "('GOLDMINE TYCOON', 27)\n",
      "('HORROR REIGN', 27)\n",
      "('INVASION CYCLONE', 27)\n",
      "('LIES TREATMENT', 27)\n",
      "('LOATHING LEGALLY', 27)\n",
      "('LOSE INCH', 27)\n",
      "('MOVIE SHAKESPEARE', 27)\n",
      "('NONE SPIKING', 27)\n",
      "('OPERATION OPERATION', 27)\n",
      "('PRIMARY GLASS', 27)\n",
      "('PRINCESS GIANT', 27)\n",
      "('RANGE MOONWALKER', 27)\n",
      "('SPY MILE', 27)\n",
      "('SWARM GOLD', 27)\n",
      "('TELEGRAPH VOYAGE', 27)\n",
      "('TORQUE BOUND', 27)\n",
      "('WARDROBE PHANTOM', 27)\n",
      "('ALASKA PHANTOM', 26)\n",
      "('BROTHERHOOD BLANKET', 26)\n",
      "('COMA HEAD', 26)\n",
      "('CONTACT ANONYMOUS', 26)\n",
      "('DISTURBING SCARFACE', 26)\n",
      "('DURHAM PANKY', 26)\n",
      "('FANTASY TROOPERS', 26)\n",
      "('FELLOWSHIP AUTUMN', 26)\n",
      "('HALF OUTFIELD', 26)\n",
      "('HANKY OCTOBER', 26)\n",
      "('HYDE DOCTOR', 26)\n",
      "('INNOCENT USUAL', 26)\n",
      "('ISLAND EXORCIST', 26)\n",
      "('MALKOVICH PET', 26)\n",
      "('METROPOLIS COMA', 26)\n",
      "('PELICAN COMFORTS', 26)\n",
      "('PITY BOUND', 26)\n",
      "('POCUS PULP', 26)\n",
      "('SEABISCUIT PUNK', 26)\n",
      "('STAGECOACH ARMAGEDDON', 26)\n",
      "('TIGHTS DAWN', 26)\n",
      "('TRACY CIDER', 26)\n",
      "('VELVET TERMINATOR', 26)\n",
      "('WESTWARD SEABISCUIT', 26)\n",
      "('BARBARELLA STREETCAR', 25)\n",
      "('CLASH FREDDY', 25)\n",
      "('CLUELESS BUCKET', 25)\n",
      "('CONEHEADS SMOOCHY', 25)\n",
      "('DOUBLE WRATH', 25)\n",
      "('DOWNHILL ENOUGH', 25)\n",
      "('DYNAMITE TARZAN', 25)\n",
      "('EFFECT GLADIATOR', 25)\n",
      "('ESCAPE METROPOLIS', 25)\n",
      "('FEUD FROGMEN', 25)\n",
      "('FISH OPUS', 25)\n",
      "('GUN BONNIE', 25)\n",
      "('HILLS NEIGHBORS', 25)\n",
      "('MADNESS ATTACKS', 25)\n",
      "('MALLRATS UNITED', 25)\n",
      "('METAL ARMAGEDDON', 25)\n",
      "('NIGHTMARE CHILL', 25)\n",
      "('OSCAR GOLD', 25)\n",
      "('SAMURAI LION', 25)\n",
      "('SHEPHERD MIDSUMMER', 25)\n",
      "('SHOW LORD', 25)\n",
      "('STREETCAR INTENTIONS', 25)\n",
      "('SUN CONFESSIONS', 25)\n",
      "('TELEMARK HEARTBREAKERS', 25)\n",
      "('TOMORROW HUSTLER', 25)\n",
      "('TRADING PINOCCHIO', 25)\n",
      "('WORKING MICROCOSMOS', 25)\n",
      "('ALAMO VIDEOTAPE', 24)\n",
      "('ARACHNOPHOBIA ROLLERCOASTER', 24)\n",
      "('ATLANTIS CAUSE', 24)\n",
      "('ATTRACTION NEWTON', 24)\n",
      "('BOUND CHEAPER', 24)\n",
      "('CAPER MOTIONS', 24)\n",
      "('CELEBRITY HORN', 24)\n",
      "('CENTER DINOSAUR', 24)\n",
      "('COLOR PHILADELPHIA', 24)\n",
      "('DRIFTER COMMANDMENTS', 24)\n",
      "('FARGO GANDHI', 24)\n",
      "('GOLDFINGER SENSIBILITY', 24)\n",
      "('GUNFIGHT MOON', 24)\n",
      "('HORN WORKING', 24)\n",
      "('HURRICANE AFFAIR', 24)\n",
      "('ICE CROSSING', 24)\n",
      "('JASON TRAP', 24)\n",
      "('JUMPING WRATH', 24)\n",
      "('KNOCK WARLOCK', 24)\n",
      "('LOLA AGENT', 24)\n",
      "('MAIDEN HOME', 24)\n",
      "('MOCKINGBIRD HOLLYWOOD', 24)\n",
      "('ORANGE GRAPES', 24)\n",
      "('OZ LIAISONS', 24)\n",
      "('PACIFIC AMISTAD', 24)\n",
      "('ROMAN PUNK', 24)\n",
      "('SEATTLE EXPECATIONS', 24)\n",
      "('SHOOTIST SUPERFLY', 24)\n",
      "('SLEEPING SUSPECTS', 24)\n",
      "('SLUMS DUCK', 24)\n",
      "('STRANGELOVE DESIRE', 24)\n",
      "('SUNRISE LEAGUE', 24)\n",
      "('WEDDING APOLLO', 24)\n",
      "('ACADEMY DINOSAUR', 23)\n",
      "('AFFAIR PREJUDICE', 23)\n",
      "('ALADDIN CALENDAR', 23)\n",
      "('BALLOON HOMEWARD', 23)\n",
      "('CANDLES GRAPES', 23)\n",
      "('CARRIE BUNCH', 23)\n",
      "('CROOKED FROGMEN', 23)\n",
      "('CUPBOARD SINNERS', 23)\n",
      "('EARTH VISION', 23)\n",
      "('EASY GLADIATOR', 23)\n",
      "('FLAMINGOS CONNECTICUT', 23)\n",
      "('FOOL MOCKINGBIRD', 23)\n",
      "('FREDDY STORM', 23)\n",
      "('GENTLEMEN STAGE', 23)\n",
      "('HEAVYWEIGHTS BEAST', 23)\n",
      "('HOUSE DYNAMITE', 23)\n",
      "('KARATE MOON', 23)\n",
      "('KWAI HOMEWARD', 23)\n",
      "('MURDER ANTITRUST', 23)\n",
      "('NAME DETECTIVE', 23)\n",
      "('OTHERS SOUP', 23)\n",
      "('OUTBREAK DIVINE', 23)\n",
      "('PATTON INTERVIEW', 23)\n",
      "('PHILADELPHIA WIFE', 23)\n",
      "('SALUTE APOLLO', 23)\n",
      "('SCORPION APOLLO', 23)\n",
      "('SNOWMAN ROLLERCOASTER', 23)\n",
      "('STEEL SANTA', 23)\n",
      "('STRICTLY SCARFACE', 23)\n",
      "('TITANIC BOONDOCK', 23)\n",
      "('TROUBLE DATE', 23)\n",
      "('TRUMAN CRAZY', 23)\n",
      "('WASH HEAVENLY', 23)\n",
      "('WIND PHANTOM', 23)\n",
      "('WOMEN DORADO', 23)\n",
      "('YENTL IDAHO', 23)\n",
      "('ALIEN CENTER', 22)\n",
      "('ALTER VICTORY', 22)\n",
      "('AMERICAN CIRCUS', 22)\n",
      "('ANGELS LIFE', 22)\n",
      "('ANNIE IDENTITY', 22)\n",
      "('BANGER PINOCCHIO', 22)\n",
      "('BEAR GRACELAND', 22)\n",
      "('BEAUTY GREASE', 22)\n",
      "('BLADE POLISH', 22)\n",
      "('BORROWERS BEDAZZLED', 22)\n",
      "('CHICKEN HELLFIGHTERS', 22)\n",
      "('CHILL LUCK', 22)\n",
      "('CONGENIALITY QUEST', 22)\n",
      "('DREAM PICKUP', 22)\n",
      "('EAGLES PANKY', 22)\n",
      "('FALCON VOLUME', 22)\n",
      "('FIGHT JAWBREAKER', 22)\n",
      "('FLATLINERS KILLER', 22)\n",
      "('GRAPES FURY', 22)\n",
      "('HAUNTING PIANIST', 22)\n",
      "('HEAD STRANGER', 22)\n",
      "('HIGH ENCINO', 22)\n",
      "('HOMICIDE PEACH', 22)\n",
      "('HUSTLER PARTY', 22)\n",
      "('KISS GLORY', 22)\n",
      "('LIAISONS SWEET', 22)\n",
      "('MALTESE HOPE', 22)\n",
      "('MIDSUMMER GROUNDHOG', 22)\n",
      "('PACKER MADIGAN', 22)\n",
      "('QUEEN LUKE', 22)\n",
      "('SEA VIRGIN', 22)\n",
      "('SHAKESPEARE SADDLE', 22)\n",
      "('SINNERS ATLANTIS', 22)\n",
      "('SNATCH SLIPPER', 22)\n",
      "('SOUTH WAIT', 22)\n",
      "('TOURIST PELICAN', 22)\n",
      "('VOLCANO TEXAS', 22)\n",
      "('WHISPERER GIANT', 22)\n",
      "('WONDERLAND CHRISTMAS', 22)\n",
      "('AGENT TRUMAN', 21)\n",
      "('AMADEUS HOLY', 21)\n",
      "('AMISTAD MIDSUMMER', 21)\n",
      "('ANACONDA CONFESSIONS', 21)\n",
      "('ARIZONA BANG', 21)\n",
      "('ARMAGEDDON LOST', 21)\n",
      "('BADMAN DAWN', 21)\n",
      "('BASIC EASY', 21)\n",
      "('BERETS AGENT', 21)\n",
      "('BEVERLY OUTLAW', 21)\n",
      "('BLUES INSTINCT', 21)\n",
      "('BROOKLYN DESERT', 21)\n",
      "('CALENDAR GUNFIGHT', 21)\n",
      "('CAUSE DATE', 21)\n",
      "('CHAINSAW UPTOWN', 21)\n",
      "('CHARIOTS CONSPIRACY', 21)\n",
      "('CHRISTMAS MOONSHINE', 21)\n",
      "('COAST RAINBOW', 21)\n",
      "('CROSSROADS CASUALTIES', 21)\n",
      "('DECEIVER BETRAYED', 21)\n",
      "('DIVIDE MONSTER', 21)\n",
      "('DOOM DANCING', 21)\n",
      "('DRACULA CRYSTAL', 21)\n",
      "('DRIVING POLISH', 21)\n",
      "('EGG IGBY', 21)\n",
      "('EMPIRE MALKOVICH', 21)\n",
      "('EXCITEMENT EVE', 21)\n",
      "('FIDELITY DEVIL', 21)\n",
      "('FIREBALL PHILADELPHIA', 21)\n",
      "('GHOST GROUNDHOG', 21)\n",
      "('GREASE YOUTH', 21)\n",
      "('HIGHBALL POTTER', 21)\n",
      "('LEBOWSKI SOLDIERS', 21)\n",
      "('MOONSHINE CABIN', 21)\n",
      "('MOURNING PURPLE', 21)\n",
      "('OPEN AFRICAN', 21)\n",
      "('PIANIST OUTFIELD', 21)\n",
      "('PIRATES ROXANNE', 21)\n",
      "('RESURRECTION SILVERADO', 21)\n",
      "('SABRINA MIDNIGHT', 21)\n",
      "('SECRET GROUNDHOG', 21)\n",
      "('SLEEPY JAPANESE', 21)\n",
      "('SLEUTH ORIENT', 21)\n",
      "('SPLENDOR PATTON', 21)\n",
      "('STAR OPERATION', 21)\n",
      "('STING PERSONAL', 21)\n",
      "('SUIT WALLS', 21)\n",
      "('UNBREAKABLE KARATE', 21)\n",
      "('UNDEFEATED DALMATIONS', 21)\n",
      "('VACATION BOONDOCK', 21)\n",
      "('WAIT CIDER', 21)\n",
      "('WOLVES DESIRE', 21)\n",
      "('BRINGING HYSTERICAL', 20)\n",
      "('CHASING FIGHT', 20)\n",
      "('CHEAPER CLYDE', 20)\n",
      "('CHOCOLAT HARRY', 20)\n",
      "('DALMATIONS SWEDEN', 20)\n",
      "('DINOSAUR SECRETARY', 20)\n",
      "('FLYING HOOK', 20)\n",
      "('GARDEN ISLAND', 20)\n",
      "('GO PURPLE', 20)\n",
      "('HARPER DYING', 20)\n",
      "('HEARTBREAKERS BRIGHT', 20)\n",
      "('HELLFIGHTERS SIERRA', 20)\n",
      "('HUNCHBACK IMPOSSIBLE', 20)\n",
      "('INSIDER ARIZONA', 20)\n",
      "('INTERVIEW LIAISONS', 20)\n",
      "('INTRIGUE WORST', 20)\n",
      "('JERK PAYCHECK', 20)\n",
      "('JET NEIGHBORS', 20)\n",
      "('KICK SAVANNAH', 20)\n",
      "('KISSING DOLLS', 20)\n",
      "('LOVE SUICIDES', 20)\n",
      "('MASKED BUBBLE', 20)\n",
      "('MILLION ACE', 20)\n",
      "('MINDS TRUMAN', 20)\n",
      "('MONEY HAROLD', 20)\n",
      "('NORTHWEST POLISH', 20)\n",
      "('OUTFIELD MASSACRE', 20)\n",
      "('PEAK FOREVER', 20)\n",
      "('PINOCCHIO SIMON', 20)\n",
      "('PREJUDICE OLEANDER', 20)\n",
      "('QUEST MUSSOLINI', 20)\n",
      "('REDEMPTION COMFORTS', 20)\n",
      "('REIGN GENTLEMEN', 20)\n",
      "('REUNION WITCHES', 20)\n",
      "('RIVER OUTLAW', 20)\n",
      "('ROOM ROMAN', 20)\n",
      "('SECRETS PARADISE', 20)\n",
      "('SLEEPLESS MONSOON', 20)\n",
      "('SPICE SORORITY', 20)\n",
      "('STEPMOM DREAM', 20)\n",
      "('STRAIGHT HOURS', 20)\n",
      "('TRAMP OTHERS', 20)\n",
      "('WRONG BEHAVIOR', 20)\n",
      "('BACKLASH UNDEFEATED', 19)\n",
      "('BILL OTHERS', 19)\n",
      "('BRIDE INTRIGUE', 19)\n",
      "('CAMPUS REMEMBER', 19)\n",
      "('CANYON STOCK', 19)\n",
      "('CIDER DESIRE', 19)\n",
      "('CLONES PINOCCHIO', 19)\n",
      "('CLUB GRAFFITI', 19)\n",
      "('DESERT POSEIDON', 19)\n",
      "('DETAILS PACKER', 19)\n",
      "('DISCIPLE MOTHER', 19)\n",
      "('DOORS PRESIDENT', 19)\n",
      "('EARRING INSTINCT', 19)\n",
      "('ENCINO ELF', 19)\n",
      "('ENCOUNTERS CURTAIN', 19)\n",
      "('EYES DRIVING', 19)\n",
      "('FANTASIA PARK', 19)\n",
      "('FICTION CHRISTMAS', 19)\n",
      "('FURY MURDER', 19)\n",
      "('GABLES METROPOLIS', 19)\n",
      "('GORGEOUS BINGO', 19)\n",
      "('HANGING DEEP', 19)\n",
      "('HONEY TIES', 19)\n",
      "('HOURS RAGE', 19)\n",
      "('IGBY MAKER', 19)\n",
      "('INDEPENDENCE HOTEL', 19)\n",
      "('JEDI BENEATH', 19)\n",
      "('MARS ROMAN', 19)\n",
      "('MINE TITANS', 19)\n",
      "('MUSIC BOONDOCK', 19)\n",
      "('NATIONAL STORY', 19)\n",
      "('NEIGHBORS CHARADE', 19)\n",
      "('NOVOCAINE FLIGHT', 19)\n",
      "('PATIENT SISTER', 19)\n",
      "('POND SEATTLE', 19)\n",
      "('RAGE GAMES', 19)\n",
      "('REQUIEM TYCOON', 19)\n",
      "('ROAD ROXANNE', 19)\n",
      "('ROXANNE REBEL', 19)\n",
      "('SHAWSHANK BUBBLE', 19)\n",
      "('SOMETHING DUCK', 19)\n",
      "('SUNDANCE INVASION', 19)\n",
      "('THIEF PELICAN', 19)\n",
      "('TROJAN TOMORROW', 19)\n",
      "('VOICE PEACH', 19)\n",
      "('AIRPORT POLLOCK', 18)\n",
      "('ALONE TRIP', 18)\n",
      "('BAREFOOT MANCHURIAN', 18)\n",
      "('BIRDS PERDITION', 18)\n",
      "('BOULEVARD MOB', 18)\n",
      "('CANDIDATE PERDITION', 18)\n",
      "('CAROL TEXAS', 18)\n",
      "('CLEOPATRA DEVIL', 18)\n",
      "('CORE SUIT', 18)\n",
      "('DARN FORRESTER', 18)\n",
      "('DAWN POND', 18)\n",
      "('DRAGONFLY STRANGERS', 18)\n",
      "('DRIVER ANNIE', 18)\n",
      "('ENOUGH RAGING', 18)\n",
      "('EXPECATIONS NATURAL', 18)\n",
      "('FORREST SONS', 18)\n",
      "('GALAXY SWEETHEARTS', 18)\n",
      "('GROOVE FICTION', 18)\n",
      "('GROUNDHOG UNCUT', 18)\n",
      "('HEAVEN FREEDOM', 18)\n",
      "('HOPE TOOTSIE', 18)\n",
      "('INCH JET', 18)\n",
      "('INSECTS STONE', 18)\n",
      "('INSTINCT AIRPORT', 18)\n",
      "('JACKET FRISCO', 18)\n",
      "('JADE BUNCH', 18)\n",
      "('LION UNCUT', 18)\n",
      "('MISSION ZOOLANDER', 18)\n",
      "('PARADISE SABRINA', 18)\n",
      "('POLISH BROOKLYN', 18)\n",
      "('POLLOCK DELIVERANCE', 18)\n",
      "('RACER EGG', 18)\n",
      "('REMEMBER DIARY', 18)\n",
      "('ROUGE SQUAD', 18)\n",
      "('SCARFACE BANG', 18)\n",
      "('SECRETARY ROUGE', 18)\n",
      "('SMOKING BARBARELLA', 18)\n",
      "('SWEDEN SHINING', 18)\n",
      "('UNFORGIVEN ZOOLANDER', 18)\n",
      "('VANISHING ROCKY', 18)\n",
      "('WEEKEND PERSONAL', 18)\n",
      "('WHALE BIKINI', 18)\n",
      "('WONKA SEA', 18)\n",
      "('BEACH HEARTBREAKERS', 17)\n",
      "('BIKINI BORROWERS', 17)\n",
      "('BREAKFAST GOLDFINGER', 17)\n",
      "('COMFORTS RUSH', 17)\n",
      "('CONFUSED CANDLES', 17)\n",
      "('CONVERSATION DOWNHILL', 17)\n",
      "('DYING MAKER', 17)\n",
      "('EGYPT TENENBAUMS', 17)\n",
      "('FACTORY DRAGON', 17)\n",
      "('FERRIS MOTHER', 17)\n",
      "('FLINTSTONES HAPPINESS', 17)\n",
      "('FREAKY POCUS', 17)\n",
      "('FRENCH HOLIDAY', 17)\n",
      "('GANDHI KWAI', 17)\n",
      "('GREEK EVERYONE', 17)\n",
      "('HANOVER GALAXY', 17)\n",
      "('HOLOCAUST HIGHBALL', 17)\n",
      "('IDAHO LOVE', 17)\n",
      "('INTENTIONS EMPIRE', 17)\n",
      "('JEKYLL FROGMEN', 17)\n",
      "('JERICHO MULAN', 17)\n",
      "('JOON NORTHWEST', 17)\n",
      "('LADY STAGE', 17)\n",
      "('LAWLESS VISION', 17)\n",
      "('LEAGUE HELLFIGHTERS', 17)\n",
      "('LOUISIANA HARRY', 17)\n",
      "('MAJESTIC FLOATS', 17)\n",
      "('MASK PEACH', 17)\n",
      "('MIDNIGHT WESTWARD', 17)\n",
      "('MUSKETEERS WAIT', 17)\n",
      "('NEWTON LABYRINTH', 17)\n",
      "('NOON PAPI', 17)\n",
      "('ORIENT CLOSER', 17)\n",
      "('PERFECT GROOVE', 17)\n",
      "('POSEIDON FOREVER', 17)\n",
      "('POTTER CONNECTICUT', 17)\n",
      "('REAR TRADING', 17)\n",
      "('ROCK INSTINCT', 17)\n",
      "('ROOTS REMEMBER', 17)\n",
      "('SATISFACTION CONFIDENTIAL', 17)\n",
      "('SLACKER LIAISONS', 17)\n",
      "('STRANGERS GRAFFITI', 17)\n",
      "('SUGAR WONKA', 17)\n",
      "('TAXI KICK', 17)\n",
      "('TEEN APOLLO', 17)\n",
      "('UNITED PILOT', 17)\n",
      "('VIRGIN DAISY', 17)\n",
      "('WATERFRONT DELIVERANCE', 17)\n",
      "('ZOOLANDER FICTION', 17)\n",
      "('ARMY FLINTSTONES', 16)\n",
      "('ARTIST COLDBLOODED', 16)\n",
      "('ATTACKS HATE', 16)\n",
      "('BAKED CLEOPATRA', 16)\n",
      "('BONNIE HOLOCAUST', 16)\n",
      "('BULL SHAWSHANK', 16)\n",
      "('CADDYSHACK JEDI', 16)\n",
      "('CASABLANCA SUPER', 16)\n",
      "('CHICAGO NORTH', 16)\n",
      "('COLDBLOODED DARLING', 16)\n",
      "('COMMAND DARLING', 16)\n",
      "('CONQUERER NUTS', 16)\n",
      "('CRAFT OUTFIELD', 16)\n",
      "('CREATURES SHAKESPEARE', 16)\n",
      "('DAISY MENAGERIE', 16)\n",
      "('DESTINY SATURDAY', 16)\n",
      "('DUDE BLINDNESS', 16)\n",
      "('GASLIGHT CRUSADE', 16)\n",
      "('GRADUATE LORD', 16)\n",
      "('HALL CASSIDY', 16)\n",
      "('HOMEWARD CIDER', 16)\n",
      "('INDIAN LOVE', 16)\n",
      "('JEEPERS WEDDING', 16)\n",
      "('LOCK REAR', 16)\n",
      "('MERMAID INSECTS', 16)\n",
      "('MOTIONS DETAILS', 16)\n",
      "('MOULIN WAKE', 16)\n",
      "('MUMMY CREATURES', 16)\n",
      "('PATRIOT ROMAN', 16)\n",
      "('PAYCHECK WAIT', 16)\n",
      "('PICKUP DRIVING', 16)\n",
      "('PILOT HOOSIERS', 16)\n",
      "('PLUTO OLEANDER', 16)\n",
      "('PRIDE ALAMO', 16)\n",
      "('PURE RUNNER', 16)\n",
      "('QUILLS BULL', 16)\n",
      "('REAP UNFAITHFUL', 16)\n",
      "('ROCKY WAR', 16)\n",
      "('RULES HUMAN', 16)\n",
      "('SAGEBRUSH CLUELESS', 16)\n",
      "('SILENCE KANE', 16)\n",
      "('SLIPPER FIDELITY', 16)\n",
      "('STREAK RIDGEMONT', 16)\n",
      "('SUMMER SCARFACE', 16)\n",
      "('TRAP GUYS', 16)\n",
      "('UPRISING UPTOWN', 16)\n",
      "('VARSITY TRIP', 16)\n",
      "('WANDA CHAMBER', 16)\n",
      "('WATCH TRACY', 16)\n",
      "('WEST LION', 16)\n",
      "('WILLOW TRACY', 16)\n",
      "('WIZARD COLDBLOODED', 16)\n",
      "('WORDS HUNTER', 16)\n",
      "('WORST BANGER', 16)\n",
      "('AIRPLANE SIERRA', 15)\n",
      "('ANTHEM LUKE', 15)\n",
      "('BETRAYED REAR', 15)\n",
      "('BOILED DARES', 15)\n",
      "('CABIN FLASH', 15)\n",
      "('CHARADE DUFFEL', 15)\n",
      "('CIRCUS YOUTH', 15)\n",
      "('CYCLONE FAMILY', 15)\n",
      "('DEVIL DESIRE', 15)\n",
      "('DIRTY ACE', 15)\n",
      "('DIVINE RESURRECTION', 15)\n",
      "('EDGE KISSING', 15)\n",
      "('ENTRAPMENT SATISFACTION', 15)\n",
      "('HOLES BRANNIGAN', 15)\n",
      "('HOLIDAY GAMES', 15)\n",
      "('HUMAN GRAFFITI', 15)\n",
      "('HUNTING MUSKETEERS', 15)\n",
      "('HYSTERICAL GRAIL', 15)\n",
      "('ILLUSION AMELIE', 15)\n",
      "('LABYRINTH LEAGUE', 15)\n",
      "('LONELY ELEPHANT', 15)\n",
      "('LOSER HUSTLER', 15)\n",
      "('LUST LOCK', 15)\n",
      "('MADISON TRAP', 15)\n",
      "('MANCHURIAN CURTAIN', 15)\n",
      "('MODEL FISH', 15)\n",
      "('MODERN DORADO', 15)\n",
      "('MONSTER SPARTACUS', 15)\n",
      "('MOSQUITO ARMAGEDDON', 15)\n",
      "('NASH CHOCOLAT', 15)\n",
      "('NECKLACE OUTBREAK', 15)\n",
      "('ODDS BOOGIE', 15)\n",
      "('PANKY SUBMARINE', 15)\n",
      "('PANTHER REDS', 15)\n",
      "('RINGS HEARTBREAKERS', 15)\n",
      "('SCISSORHANDS SLUMS', 15)\n",
      "('SHIP WONDERLAND', 15)\n",
      "('SHREK LICENSE', 15)\n",
      "('SIEGE MADRE', 15)\n",
      "('SIERRA DIVIDE', 15)\n",
      "('SONS INTERVIEW', 15)\n",
      "('SPIRIT FLINTSTONES', 15)\n",
      "('STEERS ARMAGEDDON', 15)\n",
      "('SUBMARINE BED', 15)\n",
      "('SWEET BROTHERHOOD', 15)\n",
      "('TOOTSIE PILOT', 15)\n",
      "('TRANSLATION SUMMER', 15)\n",
      "('VALLEY PACKER', 15)\n",
      "('VIETNAM SMOOCHY', 15)\n",
      "('WASTELAND DIVINE', 15)\n",
      "('WORKER TARZAN', 15)\n",
      "('ALLEY EVOLUTION', 14)\n",
      "('ANALYZE HOOSIERS', 14)\n",
      "('BLINDNESS GUN', 14)\n",
      "('CONFESSIONS MAGUIRE', 14)\n",
      "('CREEPERS KANE', 14)\n",
      "('DANCES NONE', 14)\n",
      "('DAY UNFAITHFUL', 14)\n",
      "('DEEP CRUSADE', 14)\n",
      "('DONNIE ALLEY', 14)\n",
      "('ELEPHANT TROJAN', 14)\n",
      "('GAMES BOWFINGER', 14)\n",
      "('GLASS DYING', 14)\n",
      "('GOLD RIVER', 14)\n",
      "('GREEDY ROOTS', 14)\n",
      "('GRINCH MASSAGE', 14)\n",
      "('HAMLET WISDOM', 14)\n",
      "('HOME PITY', 14)\n",
      "('IMAGE PRINCESS', 14)\n",
      "('IMPOSSIBLE PREJUDICE', 14)\n",
      "('JAWS HARRY', 14)\n",
      "('KANE EXORCIST', 14)\n",
      "('LOVELY JINGLE', 14)\n",
      "('MADRE GABLES', 14)\n",
      "('MOTHER OLEANDER', 14)\n",
      "('NEMO CAMPUS', 14)\n",
      "('NOTORIOUS REUNION', 14)\n",
      "('OUTLAW HANKY', 14)\n",
      "('PAJAMA JAWBREAKER', 14)\n",
      "('PARIS WEEKEND', 14)\n",
      "('PEACH INNOCENT', 14)\n",
      "('PERSONAL LADYBUGS', 14)\n",
      "('SADDLE ANTITRUST', 14)\n",
      "('SEARCHERS WAIT', 14)\n",
      "('SHANE DARKNESS', 14)\n",
      "('SHANGHAI TYCOON', 14)\n",
      "('SHRUNK DIVINE', 14)\n",
      "('SPLASH GUMP', 14)\n",
      "('STAMPEDE DISTURBING', 14)\n",
      "('STOCK GLASS', 14)\n",
      "('TOMATOES HELLFIGHTERS', 14)\n",
      "('TOWN ARK', 14)\n",
      "('TROOPERS METAL', 14)\n",
      "('TURN STAR', 14)\n",
      "('UNCUT SUICIDES', 14)\n",
      "('VIRTUAL SPOILERS', 14)\n",
      "('WEREWOLF LOLA', 14)\n",
      "('WRATH MILE', 14)\n",
      "('ANONYMOUS HUMAN', 13)\n",
      "('ARABIA DOGMA', 13)\n",
      "('BEDAZZLED MARRIED', 13)\n",
      "('BEHAVIOR RUNAWAY', 13)\n",
      "('BILKO ANONYMOUS', 13)\n",
      "('BREAKING HOME', 13)\n",
      "('BRIGHT ENCOUNTERS', 13)\n",
      "('CHAMBER ITALIAN', 13)\n",
      "('CHAMPION FLATLINERS', 13)\n",
      "('CHISUM BEHAVIOR', 13)\n",
      "('CINCINATTI WHISPERER', 13)\n",
      "('CITIZEN SHREK', 13)\n",
      "('CONNECTICUT TRAMP', 13)\n",
      "('DADDY PITTSBURGH', 13)\n",
      "('DARKNESS WAR', 13)\n",
      "('DATE SPEED', 13)\n",
      "('DRUMS DYNAMITE', 13)\n",
      "('EVERYONE CRAFT', 13)\n",
      "('EXORCIST STING', 13)\n",
      "('EXPRESS LONELY', 13)\n",
      "('FLASH WARS', 13)\n",
      "('FOREVER CANDIDATE', 13)\n",
      "('HOLLYWOOD ANONYMOUS', 13)\n",
      "('HOOK CHARIOTS', 13)\n",
      "('HUNGER ROOF', 13)\n",
      "('IDENTITY LOVER', 13)\n",
      "('JINGLE SAGEBRUSH', 13)\n",
      "('LAWRENCE LOVE', 13)\n",
      "('LUCKY FLYING', 13)\n",
      "('MEMENTO ZOOLANDER', 13)\n",
      "('MICROCOSMOS PARADISE', 13)\n",
      "('MILE MULAN', 13)\n",
      "('MONTEREY LABYRINTH', 13)\n",
      "('MOONWALKER FOOL', 13)\n",
      "('MULAN MOON', 13)\n",
      "('NATURAL STOCK', 13)\n",
      "('OPPOSITE NECKLACE', 13)\n",
      "('PARTY KNOCK', 13)\n",
      "('PAST SUICIDES', 13)\n",
      "('PURPLE MOVIE', 13)\n",
      "('RAGING AIRPLANE', 13)\n",
      "('ROBBERY BRIGHT', 13)\n",
      "('SASSY PACKER', 13)\n",
      "('SATURN NAME', 13)\n",
      "('SPIKING ELEMENT', 13)\n",
      "('SPINAL ROCKY', 13)\n",
      "('STATE WASTELAND', 13)\n",
      "('SUPER WYOMING', 13)\n",
      "('TENENBAUMS COMMAND', 13)\n",
      "('TUXEDO MILE', 13)\n",
      "('USUAL UNTOUCHABLES', 13)\n",
      "('WYOMING STORM', 13)\n",
      "('ADAPTATION HOLES', 12)\n",
      "('AFRICAN EGG', 12)\n",
      "('ALABAMA DEVIL', 12)\n",
      "('BLANKET BEVERLY', 12)\n",
      "('BORN SPINAL', 12)\n",
      "('BRANNIGAN SUNRISE', 12)\n",
      "('CALIFORNIA BIRDS', 12)\n",
      "('CROW GREASE', 12)\n",
      "('DANGEROUS UPTOWN', 12)\n",
      "('EVOLUTION ALTER', 12)\n",
      "('FINDING ANACONDA', 12)\n",
      "('FLIGHT LIES', 12)\n",
      "('GUNFIGHTER MUSSOLINI', 12)\n",
      "('HEDWIG ALTER', 12)\n",
      "('LIBERTY MAGNIFICENT', 12)\n",
      "('LOST BIRD', 12)\n",
      "('LOVERBOY ATTACKS', 12)\n",
      "('MASSAGE IMAGE', 12)\n",
      "('MEET CHOCOLATE', 12)\n",
      "('MIGHTY LUCK', 12)\n",
      "('MINORITY KISS', 12)\n",
      "('MOB DUFFEL', 12)\n",
      "('PITTSBURGH HUNCHBACK', 12)\n",
      "('SAVANNAH TOWN', 12)\n",
      "('SIDE ARK', 12)\n",
      "('SILVERADO GOLDFINGER', 12)\n",
      "('SMOOCHY CONTROL', 12)\n",
      "('SORORITY QUEEN', 12)\n",
      "('SPEAKEASY DATE', 12)\n",
      "('TEMPLE ATTRACTION', 12)\n",
      "('TYCOON GATHERING', 12)\n",
      "('UPTOWN YOUNG', 12)\n",
      "('VALENTINE VANISHING', 12)\n",
      "('VAMPIRE WHALE', 12)\n",
      "('WAR NOTTING', 12)\n",
      "('WINDOW SIDE', 12)\n",
      "('AUTUMN CROW', 11)\n",
      "('BEAST HUNCHBACK', 11)\n",
      "('BEETHOVEN EXORCIST', 11)\n",
      "('BIRCH ANTITRUST', 11)\n",
      "('BIRD INDEPENDENCE', 11)\n",
      "('BOWFINGER GABLES', 11)\n",
      "('BUGSY SONG', 11)\n",
      "('CRANES RESERVOIR', 11)\n",
      "('DARKO DORADO', 11)\n",
      "('DRAGON SQUAD', 11)\n",
      "('DRUMLINE CYCLONE', 11)\n",
      "('ENDING CROWDS', 11)\n",
      "('FEATHERS METAL', 11)\n",
      "('FRIDA SLIPPER', 11)\n",
      "('FUGITIVE MAGUIRE', 11)\n",
      "('GATHERING CALENDAR', 11)\n",
      "('IRON MOON', 11)\n",
      "('LANGUAGE COWBOY', 11)\n",
      "('LORD ARIZONA', 11)\n",
      "('MAGNOLIA FORRESTER', 11)\n",
      "('MOD SECRETARY', 11)\n",
      "('NORTH TEQUILA', 11)\n",
      "('OCTOBER SUBMARINE', 11)\n",
      "('OPUS ICE', 11)\n",
      "('POTLUCK MIXED', 11)\n",
      "('PRIX UNDEFEATED', 11)\n",
      "('REEF SALUTE', 11)\n",
      "('RIDER CADDYSHACK', 11)\n",
      "('SANTA PARIS', 11)\n",
      "('SONG HEDWIG', 11)\n",
      "('SPIRITED CASUALTIES', 11)\n",
      "('STONE FIRE', 11)\n",
      "('STRANGER STRANGERS', 11)\n",
      "('THEORY MERMAID', 11)\n",
      "('THIN SAGEBRUSH', 11)\n",
      "('TIES HUNGER', 11)\n",
      "('TOWERS HURRICANE', 11)\n",
      "('TRAINSPOTTING STRANGERS', 11)\n",
      "('TWISTED PIRATES', 11)\n",
      "('AMELIE HELLFIGHTERS', 10)\n",
      "('ANTITRUST TOMATOES', 10)\n",
      "('BENEATH RUSH', 10)\n",
      "('BLOOD ARGONAUTS', 10)\n",
      "('CLOCKWORK PARADISE', 10)\n",
      "('DOUBTFIRE LABYRINTH', 10)\n",
      "('ELEMENT FREDDY', 10)\n",
      "('ELIZABETH SHANE', 10)\n",
      "('FIDDLER LOST', 10)\n",
      "('FROGMEN BREAKING', 10)\n",
      "('GONE TROUBLE', 10)\n",
      "('GRAIL FRANKENSTEIN', 10)\n",
      "('HALLOWEEN NUTS', 10)\n",
      "('HOLLOW JEOPARDY', 10)\n",
      "('JAWBREAKER BROOKLYN', 10)\n",
      "('JEOPARDY ENCINO', 10)\n",
      "('LAMBS CINCINATTI', 10)\n",
      "('LIFE TWISTED', 10)\n",
      "('LOLITA WORLD', 10)\n",
      "('LOVER TRUMAN', 10)\n",
      "('LUCK OPUS', 10)\n",
      "('MADIGAN DORADO', 10)\n",
      "('MAKER GABLES', 10)\n",
      "('MYSTIC TRUMAN', 10)\n",
      "('NOTTING SPEAKEASY', 10)\n",
      "('OLEANDER CLUE', 10)\n",
      "('PATHS CONTROL', 10)\n",
      "('RESERVOIR ADAPTATION', 10)\n",
      "('RIGHT CRANES', 10)\n",
      "('ROLLERCOASTER BRINGING', 10)\n",
      "('RUN PACIFIC', 10)\n",
      "('SENSIBILITY REAR', 10)\n",
      "('SMILE EARRING', 10)\n",
      "('SPOILERS HELLFIGHTERS', 10)\n",
      "('STAGE WORLD', 10)\n",
      "('SUPERFLY TRIP', 10)\n",
      "('WAGON JAWS', 10)\n",
      "('WARS PLUTO', 10)\n",
      "('ALI FOREVER', 9)\n",
      "('ANYTHING SAVANNAH', 9)\n",
      "('BIRDCAGE CASPER', 9)\n",
      "('CARIBBEAN LIBERTY', 9)\n",
      "('CASUALTIES ENCINO', 9)\n",
      "('CRAZY HOME', 9)\n",
      "('DARES PLUTO', 9)\n",
      "('DARLING BREAKING', 9)\n",
      "('DAUGHTER MADIGAN', 9)\n",
      "('DIARY PANIC', 9)\n",
      "('DOLLS RAGE', 9)\n",
      "('DROP WATERFRONT', 9)\n",
      "('DWARFS ALTER', 9)\n",
      "('FRISCO FORREST', 9)\n",
      "('GHOSTBUSTERS ELF', 9)\n",
      "('GILBERT PELICAN', 9)\n",
      "('GUYS FALCON', 9)\n",
      "('HOLY TADPOLE', 9)\n",
      "('HOTEL HAPPINESS', 9)\n",
      "('IMPACT ALADDIN', 9)\n",
      "('INTOLERABLE INTENTIONS', 9)\n",
      "('JUNGLE CLOSER', 9)\n",
      "('KING EVOLUTION', 9)\n",
      "('KRAMER CHOCOLATE', 9)\n",
      "('LEGALLY SECRETARY', 9)\n",
      "('LEGEND JEDI', 9)\n",
      "('MAGUIRE APACHE', 9)\n",
      "('MATRIX SNOWMAN', 9)\n",
      "('MIRACLE VIRTUAL', 9)\n",
      "('MONSOON CAUSE', 9)\n",
      "('MONTEZUMA COMMAND', 9)\n",
      "('NUTS TIES', 9)\n",
      "('PLATOON INSTINCT', 9)\n",
      "('RANDOM GO', 9)\n",
      "('REDS POCUS', 9)\n",
      "('SNATCHERS MONTEZUMA', 9)\n",
      "('SPARTACUS CHEAPER', 9)\n",
      "('SPEED SUIT', 9)\n",
      "('VANILLA DAY', 9)\n",
      "('VICTORY ACADEMY', 9)\n",
      "('WISDOM WORKER', 9)\n",
      "('WON DARES', 9)\n",
      "('WONDERFUL DROP', 9)\n",
      "('ZHIVAGO CORE', 9)\n",
      "('BABY HALL', 8)\n",
      "('BALLROOM MOCKINGBIRD', 8)\n",
      "('CASPER DRAGONFLY', 8)\n",
      "('CHAPLIN LICENSE', 8)\n",
      "('CHITTY LOCK', 8)\n",
      "('CLYDE THEORY', 8)\n",
      "('CRUSADE HONEY', 8)\n",
      "('DESIRE ALIEN', 8)\n",
      "('DESTINATION JERK', 8)\n",
      "('GODFATHER DIARY', 8)\n",
      "('GOSFORD DONNIE', 8)\n",
      "('GROSSE WONDERFUL', 8)\n",
      "('HAROLD FRENCH', 8)\n",
      "('HOOSIERS BIRDCAGE', 8)\n",
      "('JUMANJI BLADE', 8)\n",
      "('LIGHTS DEER', 8)\n",
      "('MAGNIFICENT CHITTY', 8)\n",
      "('MAUDE MOD', 8)\n",
      "('PAPI NECKLACE', 8)\n",
      "('PARK CITIZEN', 8)\n",
      "('PET HAUNTING', 8)\n",
      "('PUNK DIVORCE', 8)\n",
      "('REBEL AIRPORT', 8)\n",
      "('RECORDS ZORRO', 8)\n",
      "('RUNAWAY TENENBAUMS', 8)\n",
      "('RUNNER MADIGAN', 8)\n",
      "('SAINTS BRIDE', 8)\n",
      "('SHINING ROSES', 8)\n",
      "('SOLDIERS EVOLUTION', 8)\n",
      "('SOUP WISDOM', 8)\n",
      "('SUNSET RACER', 8)\n",
      "('TARZAN VIDEOTAPE', 8)\n",
      "('UNFAITHFUL KILL', 8)\n",
      "('UNTOUCHABLES SUNRISE', 8)\n",
      "('VERTIGO NORTHWEST', 8)\n",
      "('WORLD LEATHERNECKS', 8)\n",
      "('ACE GOLDFINGER', 7)\n",
      "('BANG KWAI', 7)\n",
      "('BULWORTH COMMANDMENTS', 7)\n",
      "('CLERKS ANGELS', 7)\n",
      "('CLUE GRAIL', 7)\n",
      "('CONNECTION MICROCOSMOS', 7)\n",
      "('CONTROL ANTHEM', 7)\n",
      "('COWBOY DOOM', 7)\n",
      "('CRUELTY UNFORGIVEN', 7)\n",
      "('DIVORCE SHINING', 7)\n",
      "('DOCTOR GRAIL', 7)\n",
      "('DOZEN LION', 7)\n",
      "('DUFFEL APOCALYPSE', 7)\n",
      "('EARLY HOME', 7)\n",
      "('ELF MURDER', 7)\n",
      "('EVE RESURRECTION', 7)\n",
      "('FIRE WOLVES', 7)\n",
      "('HAWK CHILL', 7)\n",
      "('HEAVENLY GUN', 7)\n",
      "('ISHTAR ROCKETEER', 7)\n",
      "('LEATHERNECKS DWARFS', 7)\n",
      "('LESSON CLEOPATRA', 7)\n",
      "('LICENSE WEEKEND', 7)\n",
      "('LUKE MUMMY', 7)\n",
      "('MAGIC MALLRATS', 7)\n",
      "('MENAGERIE RUSHMORE', 7)\n",
      "('MULHOLLAND BEAST', 7)\n",
      "('NEWSIES STORY', 7)\n",
      "('PANIC CLUB', 7)\n",
      "('PIZZA JUMANJI', 7)\n",
      "('PRESIDENT BANG', 7)\n",
      "('SENSE GREEK', 7)\n",
      "('SQUAD FISH', 7)\n",
      "('STALLION SUNDANCE', 7)\n",
      "('TREATMENT JEKYLL', 7)\n",
      "('VANISHED GARDEN', 7)\n",
      "('VISION TORQUE', 7)\n",
      "('YOUNG LANGUAGE', 7)\n",
      "('APOCALYPSE FLAMINGOS', 6)\n",
      "('BED HIGHBALL', 6)\n",
      "('BUBBLE GROSSE', 6)\n",
      "('CASSIDY WYOMING', 6)\n",
      "('COMANCHEROS ENEMY', 6)\n",
      "('DESPERATE TRAINSPOTTING', 6)\n",
      "('DUCK RACER', 6)\n",
      "('DUMBO LUST', 6)\n",
      "('EXTRAORDINARY CONQUERER', 6)\n",
      "('FRONTIER CABIN', 6)\n",
      "('GRACELAND DYNAMITE', 6)\n",
      "('HAPPINESS UNITED', 6)\n",
      "('HAUNTED ANTITRUST', 6)\n",
      "('ITALIAN AFRICAN', 6)\n",
      "('JAPANESE RUN', 6)\n",
      "('JERSEY SASSY', 6)\n",
      "('KILLER INNOCENT', 6)\n",
      "('LADYBUGS ARMAGEDDON', 6)\n",
      "('OKLAHOMA JUMANJI', 6)\n",
      "('PHANTOM GLORY', 6)\n",
      "('RUSHMORE MERMAID', 6)\n",
      "('SCHOOL JACKET', 6)\n",
      "('SIMON NORTH', 6)\n",
      "('SLING LUKE', 6)\n",
      "('TEQUILA PAST', 6)\n",
      "('TERMINATOR CLUB', 6)\n",
      "('TEXAS WATCH', 6)\n",
      "('WARLOCK WEREWOLF', 6)\n",
      "('WATERSHIP FRONTIER', 6)\n",
      "('WILD APOLLO', 6)\n",
      "('YOUTH KICK', 6)\n",
      "('BRAVEHEART HUMAN', 5)\n",
      "('BUNCH MINDS', 5)\n",
      "('CONSPIRACY SPIRIT', 5)\n",
      "('FEVER EMPIRE', 5)\n",
      "('FREEDOM CLEOPATRA', 5)\n",
      "('FULL FLATLINERS', 5)\n",
      "('GLORY TRACY', 5)\n",
      "('HUNTER ALTER', 5)\n",
      "('INFORMER DOUBLE', 5)\n",
      "('MANNEQUIN WORST', 5)\n",
      "('MUSSOLINI SPOILERS', 5)\n",
      "('PRIVATE DROP', 5)\n",
      "('SEVEN SWARM', 5)\n",
      "('TRAFFIC HOBBIT', 5)\n",
      "('HARDLY ROBBERS', 4)\n",
      "('MIXED DOORS', 4)\n",
      "('TRAIN BUNCH', 4)\n"
     ]
    }
   ],
   "source": [
    "db('SELECT title, COUNT(*) FROM film INNER JOIN inventory USING(film_id) INNER JOIN rental USING(inventory_id) GROUP BY title ORDER BY COUNT(*) DESC')"
   ]
  },
  {
   "cell_type": "markdown",
   "metadata": {},
   "source": [
    "Liste os filmes e o numero de vezes em que foram alugados apenas para filmes que foram alugados mais do que a média de numero de alugueis por filme."
   ]
  },
  {
   "cell_type": "code",
   "execution_count": 12,
   "metadata": {},
   "outputs": [
    {
     "name": "stdout",
     "output_type": "stream",
     "text": [
      "Executando query:\n",
      "(Decimal('16.7474'),)\n"
     ]
    }
   ],
   "source": [
    "#média de numero de alugueis por filme\n",
    "db('SELECT AVG(count) FROM (SELECT title, COUNT(*) AS count FROM film INNER JOIN inventory USING(film_id) INNER JOIN rental USING(inventory_id) GROUP BY title) AS t')\n",
    "#db('SELECT title, COUNT(*) FROM film INNER JOIN inventory USING(film_id) INNER JOIN rental USING(inventory_id) GROUP BY title ORDER BY COUNT(*) WHERE COUNT(*) > 10')"
   ]
  },
  {
   "cell_type": "code",
   "execution_count": null,
   "metadata": {},
   "outputs": [],
   "source": [
    "db('''\n",
    "-- SUA QUERY AQUI!\n",
    "''')"
   ]
  },
  {
   "cell_type": "markdown",
   "metadata": {
    "tags": []
   },
   "source": [
    "## Views\n",
    "\n",
    "Uma *view* é uma tabela virtual, construida a partir de um comando `SELECT`. Por exemplo: execute o código a seguir."
   ]
  },
  {
   "cell_type": "code",
   "execution_count": null,
   "metadata": {},
   "outputs": [],
   "source": [
    "db('''\n",
    "DROP VIEW IF EXISTS movie_count;\n",
    "''')\n",
    "\n",
    "db('''\n",
    "CREATE VIEW movie_count AS\n",
    "    SELECT \n",
    "        title, COUNT(rental_id) as cnt\n",
    "    FROM\n",
    "        film\n",
    "        LEFT OUTER JOIN inventory USING (film_id)\n",
    "        LEFT OUTER JOIN rental USING (inventory_id)\n",
    "    GROUP BY\n",
    "        film_id\n",
    "    ORDER BY\n",
    "        cnt ASC;\n",
    "''')"
   ]
  },
  {
   "cell_type": "markdown",
   "metadata": {},
   "source": [
    "Agora temos uma *view* chamada `movie_count`. Vamos verificar que ela funcionou, listando as 30 primeiras linhas:"
   ]
  },
  {
   "cell_type": "code",
   "execution_count": null,
   "metadata": {},
   "outputs": [],
   "source": [
    "db('''\n",
    "SELECT \n",
    "    *\n",
    "FROM\n",
    "    movie_count \n",
    "LIMIT \n",
    "    30\n",
    "''')"
   ]
  },
  {
   "cell_type": "code",
   "execution_count": null,
   "metadata": {},
   "outputs": [],
   "source": [
    "db('''\n",
    "SELECT \n",
    "    * \n",
    "FROM \n",
    "    movie_count \n",
    "ORDER BY\n",
    "    cnt DESC\n",
    "LIMIT 30\n",
    "''')"
   ]
  },
  {
   "cell_type": "markdown",
   "metadata": {},
   "source": [
    "Agora suponha que alteramos a tabela `film`, mudando o nome do filme \"DAZED PUNK\" para \"STONED PUNK\".\n",
    "\n",
    "**Atividade**: Do it."
   ]
  },
  {
   "cell_type": "code",
   "execution_count": null,
   "metadata": {},
   "outputs": [],
   "source": [
    "db('''\n",
    "-- SUA QUERY AQUI!\n",
    "''')"
   ]
  },
  {
   "cell_type": "markdown",
   "metadata": {},
   "source": [
    "Verifique agora a nossa *view*:"
   ]
  },
  {
   "cell_type": "code",
   "execution_count": null,
   "metadata": {},
   "outputs": [],
   "source": [
    "db('''\n",
    "SELECT\n",
    "    *\n",
    "FROM\n",
    "    movie_count\n",
    "LIMIT\n",
    "    30\n",
    "''')"
   ]
  },
  {
   "cell_type": "markdown",
   "metadata": {},
   "source": [
    "Como você pode ver, as views são tabelas virtuais que são automaticamente atualizadas quando as tabelas originais são modificadas."
   ]
  },
  {
   "cell_type": "code",
   "execution_count": null,
   "metadata": {},
   "outputs": [],
   "source": [
    "connection.rollback()"
   ]
  },
  {
   "cell_type": "code",
   "execution_count": null,
   "metadata": {},
   "outputs": [],
   "source": [
    "db('''\n",
    "SELECT\n",
    "    *\n",
    "FROM\n",
    "    movie_count\n",
    "LIMIT\n",
    "    30\n",
    "''')"
   ]
  },
  {
   "cell_type": "markdown",
   "metadata": {},
   "source": [
    "### Vamos praticar"
   ]
  },
  {
   "cell_type": "markdown",
   "metadata": {},
   "source": [
    "Verifique quantas vezes o filme \"COWBOY DOOM\" foi alugado usando a view `movie_count`"
   ]
  },
  {
   "cell_type": "code",
   "execution_count": null,
   "metadata": {},
   "outputs": [],
   "source": [
    "db('''\n",
    "-- SUA QUERY AQUI!\n",
    "''')"
   ]
  },
  {
   "cell_type": "markdown",
   "metadata": {},
   "source": [
    "Registre um aluguel do filme \"COWBOY DOOM\", feito pelo funcionario \"Jon Stephens\" na loja id=1 para o cliente \"JESSIE BANKS\", na data '2019-01-01', com data de retorno '2019-01-08'"
   ]
  },
  {
   "cell_type": "code",
   "execution_count": null,
   "metadata": {},
   "outputs": [],
   "source": [
    "db('''\n",
    "-- SUA QUERY AQUI!\n",
    "''')"
   ]
  },
  {
   "cell_type": "code",
   "execution_count": null,
   "metadata": {},
   "outputs": [],
   "source": [
    "db('''\n",
    "-- SUA QUERY AQUI CASO NECESSITE DE MAIS!\n",
    "''')"
   ]
  },
  {
   "cell_type": "markdown",
   "metadata": {},
   "source": [
    "Verifique usando a view que a contagem de alugueis do filme subiu."
   ]
  },
  {
   "cell_type": "code",
   "execution_count": null,
   "metadata": {},
   "outputs": [],
   "source": [
    "db('''\n",
    "-- SUA QUERY AQUI!\n",
    "''')"
   ]
  },
  {
   "cell_type": "markdown",
   "metadata": {},
   "source": [
    "Faça o *rollback* desta alteração, para não modificar a nossa querida base de dados *sakila*."
   ]
  },
  {
   "cell_type": "code",
   "execution_count": null,
   "metadata": {},
   "outputs": [],
   "source": [
    "connection.rollback()"
   ]
  },
  {
   "cell_type": "markdown",
   "metadata": {},
   "source": [
    "## Tabelas temporárias"
   ]
  },
  {
   "cell_type": "markdown",
   "metadata": {},
   "source": [
    "Tabelas temporárias podem ser criadas para ajudar nas tarefas de manipulação de dados. Essas tabelas existem apenas pela duração da sessão. Para criar uma tabela temporária, basta adicionar a palavra-chave `TEMPORARY` no momento da criação.\n",
    "\n",
    "É comum criar tabelas temporárias à partir do resultado de comandos `SELECT`. Por exemplo, a seguinte query permite montar uma tabela temporária com os filmes que duram mais que 3 horas:"
   ]
  },
  {
   "cell_type": "code",
   "execution_count": null,
   "metadata": {},
   "outputs": [],
   "source": [
    "db('''\n",
    "DROP TABLE IF EXISTS long_film\n",
    "''')\n",
    "\n",
    "db('''\n",
    "CREATE TEMPORARY TABLE long_film \n",
    "    SELECT\n",
    "        *\n",
    "    FROM\n",
    "        film\n",
    "    WHERE\n",
    "        film.length > 180;\n",
    "''')"
   ]
  },
  {
   "cell_type": "markdown",
   "metadata": {},
   "source": [
    "Podemos verificar que a tabela `long_film` agora existe:"
   ]
  },
  {
   "cell_type": "code",
   "execution_count": null,
   "metadata": {
    "scrolled": true,
    "tags": []
   },
   "outputs": [],
   "source": [
    "db('DESCRIBE long_film')"
   ]
  },
  {
   "cell_type": "markdown",
   "metadata": {},
   "source": [
    "Muito embora ela não apareça na lista de tabelas: isso é um bug do MySQL. (https://dev.mysql.com/worklog/task/?id=648)"
   ]
  },
  {
   "cell_type": "code",
   "execution_count": null,
   "metadata": {},
   "outputs": [],
   "source": [
    "db('SHOW TABLES')"
   ]
  },
  {
   "cell_type": "markdown",
   "metadata": {},
   "source": [
    "Vamos listar o conteudo desta tabela:"
   ]
  },
  {
   "cell_type": "code",
   "execution_count": null,
   "metadata": {
    "tags": []
   },
   "outputs": [],
   "source": [
    "db('SELECT title FROM long_film')"
   ]
  },
  {
   "cell_type": "markdown",
   "metadata": {},
   "source": [
    "Vamos apagar a tabela `long_film`:"
   ]
  },
  {
   "cell_type": "code",
   "execution_count": null,
   "metadata": {},
   "outputs": [],
   "source": [
    "db('DROP TABLE long_film')"
   ]
  },
  {
   "cell_type": "markdown",
   "metadata": {},
   "source": [
    "### Vamos praticar"
   ]
  },
  {
   "cell_type": "markdown",
   "metadata": {},
   "source": [
    "- Crie uma tabela temporária `max_duration` que contém a duração máxima de filme para cada categoria"
   ]
  },
  {
   "cell_type": "code",
   "execution_count": null,
   "metadata": {},
   "outputs": [],
   "source": [
    "db('''\n",
    "-- SUA QUERY AQUI!\n",
    "''')\n",
    "\n",
    "db('''\n",
    "-- SUA QUERY AQUI!\n",
    "''')"
   ]
  },
  {
   "cell_type": "markdown",
   "metadata": {},
   "source": [
    " - Verifique a tabela."
   ]
  },
  {
   "cell_type": "code",
   "execution_count": null,
   "metadata": {},
   "outputs": [],
   "source": [
    "db('SELECT * FROM max_duration')"
   ]
  },
  {
   "cell_type": "code",
   "execution_count": null,
   "metadata": {},
   "outputs": [],
   "source": [
    "db('DESCRIBE max_duration')"
   ]
  },
  {
   "cell_type": "markdown",
   "metadata": {},
   "source": [
    "- Agora use a tabela temporária para construir uma consulta com as categorias e seus respectivos filmes mais longos:"
   ]
  },
  {
   "cell_type": "code",
   "execution_count": null,
   "metadata": {},
   "outputs": [],
   "source": [
    "db('''\n",
    "SELECT\n",
    "    category_id, name, film_id, title, length\n",
    "FROM\n",
    "    film\n",
    "    INNER JOIN film_category USING (film_id)\n",
    "    INNER JOIN max_duration USING (category_id)\n",
    "WHERE\n",
    "    length = max_len\n",
    "''')"
   ]
  },
  {
   "cell_type": "markdown",
   "metadata": {},
   "source": [
    "- delete a tabela temporária"
   ]
  },
  {
   "cell_type": "code",
   "execution_count": null,
   "metadata": {},
   "outputs": [],
   "source": [
    "db('''\n",
    "DROP TABLE max_duration\n",
    "''')"
   ]
  },
  {
   "cell_type": "markdown",
   "metadata": {},
   "source": [
    "### Desafio!"
   ]
  },
  {
   "cell_type": "markdown",
   "metadata": {},
   "source": [
    "- Gere uma tabela `actor_category_films` contendo, para cada ator, a seguinte informação:\n",
    "\n",
    "| first_name | last_name | filmes por categoria |\n",
    "|--|--|--|\n",
    "| PENELOPE | GUINESS | Animation: ANACONDA CONFESSIONS; Children: LANGUAGE COWBOY; Classics: COLOR PHILADELPHIA, WESTWARD SEABISCUIT; Comedy: VERTIGO NORTHWEST; Documentary: ACADEMY DINOSAUR; Family: KING EVOLUTION, SPLASH GUMP; Foreign: MULHOLLAND BEAST; Games: BULWORTH COMMANDMENTS, HUMAN GRAFFITI; Horror: ELEPHANT TROJAN, LADY STAGE, RULES HUMAN; Music: WIZARD COLDBLOODED; New: ANGELS LIFE, OKLAHOMA JUMANJI; Sci-Fi: CHEAPER CLYDE; Sports: GLEAMING JAWBREAKER |\n",
    "| NICK | WAHLBERG | Action: BULL SHAWSHANK; Animation: FIGHT JAWBREAKER; Children: JERSEY SASSY; Classics: DRACULA CRYSTAL, GILBERT PELICAN; Comedy: MALLRATS UNITED, RUSHMORE MERMAID; Documentary: ADAPTATION HOLES; Drama: WARDROBE PHANTOM; Family: APACHE DIVINE, CHISUM BEHAVIOR, INDIAN LOVE, MAGUIRE APACHE; Foreign: BABY HALL, HAPPINESS UNITED; Games: ROOF CHAMPION; Music: LUCKY FLYING; New: DESTINY SATURDAY, FLASH WARS, JEKYLL FROGMEN, MASK PEACH; Sci-Fi: CHAINSAW UPTOWN, GOODFELLAS SALUTE; Travel: LIAISONS SWEET, SMILE EARRING |\n",
    "| etc | etc | etc |\n",
    "\n",
    "Dica: use `GROUP_CONCAT` para agrupar todas as strings de uma coluna em uma string só, e `CONCAT` para unir strings particulares."
   ]
  },
  {
   "cell_type": "code",
   "execution_count": null,
   "metadata": {},
   "outputs": [],
   "source": [
    "db('''\n",
    "-- SUA QUERY AQUI!\n",
    "''')\n",
    "\n",
    "db('''\n",
    "-- SUA QUERY AQUI!\n",
    "''')"
   ]
  },
  {
   "cell_type": "code",
   "execution_count": null,
   "metadata": {},
   "outputs": [],
   "source": [
    "db('SELECT * FROM actor_category_films LIMIT 10')"
   ]
  },
  {
   "cell_type": "code",
   "execution_count": null,
   "metadata": {},
   "outputs": [],
   "source": [
    "db('''\n",
    "SELECT\n",
    "    MIN(first_name), MIN(last_name), GROUP_CONCAT(films SEPARATOR \"; \") as total_films\n",
    "FROM\n",
    "    actor_category_films\n",
    "GROUP BY\n",
    "    actor_id\n",
    "''')"
   ]
  },
  {
   "cell_type": "markdown",
   "metadata": {
    "tags": []
   },
   "source": [
    "## Variáveis\n",
    "\n",
    "Podemos montar uma query que retorne um valor só e armazenar este valor em uma variável, para uso posterior em outras queries. Para isso vamos usar o prefixo '@' para indicar variáveis, e o comando `SELECT ... INTO`.\n",
    "\n",
    "Exemplo: quais são os filmes \"caros\" da nossa base sakila? Vamos descobrir quais filmes custam mais que um desvio padrão acima da média de preços de locação.\n",
    "\n",
    "Primeiro vamos calcular a média e o desvio padrão dos preços de aluguel:"
   ]
  },
  {
   "cell_type": "code",
   "execution_count": null,
   "metadata": {},
   "outputs": [],
   "source": [
    "db('''\n",
    "SELECT \n",
    "    AVG(rental_rate), \n",
    "    STDDEV(rental_rate)\n",
    "INTO \n",
    "    @avg_rate, \n",
    "    @stddev_rate \n",
    "FROM\n",
    "    film;\n",
    "''')"
   ]
  },
  {
   "cell_type": "markdown",
   "metadata": {},
   "source": [
    "Note que a query não retorna um resultado: o resultado foi armazenado direto nas variáveis `@avg_rate` e `@stddev_rate`. Vamos usar um `SELECT` sem tabelas para ver o resultado:"
   ]
  },
  {
   "cell_type": "code",
   "execution_count": null,
   "metadata": {},
   "outputs": [],
   "source": [
    "db('SELECT @avg_rate, @stddev_rate')"
   ]
  },
  {
   "cell_type": "markdown",
   "metadata": {},
   "source": [
    "Agora podemos selecionar os filmes caros!"
   ]
  },
  {
   "cell_type": "code",
   "execution_count": null,
   "metadata": {
    "tags": []
   },
   "outputs": [],
   "source": [
    "db('''\n",
    "SELECT \n",
    "    title, rental_rate\n",
    "FROM\n",
    "    film\n",
    "WHERE\n",
    "    rental_rate > @avg_rate + @stddev_rate\n",
    "LIMIT 10\n",
    "''')"
   ]
  },
  {
   "cell_type": "markdown",
   "metadata": {},
   "source": [
    "### Vamos praticar"
   ]
  },
  {
   "cell_type": "markdown",
   "metadata": {},
   "source": [
    "Use variáveis temporárias para encontrar o ator que mais participou de filmes."
   ]
  },
  {
   "cell_type": "code",
   "execution_count": null,
   "metadata": {},
   "outputs": [],
   "source": []
  },
  {
   "cell_type": "markdown",
   "metadata": {},
   "source": [
    "## Operador `IN`"
   ]
  },
  {
   "cell_type": "markdown",
   "metadata": {},
   "source": [
    "Suponha que desejamos listar todos os filmes dos 3 atores mais populares. Podemos começar listando os 3 atores mais populares:"
   ]
  },
  {
   "cell_type": "code",
   "execution_count": null,
   "metadata": {},
   "outputs": [],
   "source": [
    "db('''\n",
    "SELECT \n",
    "    actor_id, first_name, last_name, COUNT(film_id) AS num_films\n",
    "FROM\n",
    "    actor\n",
    "    INNER JOIN film_actor USING (actor_id)\n",
    "GROUP BY \n",
    "    actor_id\n",
    "ORDER BY \n",
    "    num_films DESC\n",
    "LIMIT 3\n",
    "''')"
   ]
  },
  {
   "cell_type": "markdown",
   "metadata": {},
   "source": [
    "Vamos criar uma tabela temporária para guardar a informação de `actor_id` desses atores:"
   ]
  },
  {
   "cell_type": "code",
   "execution_count": null,
   "metadata": {},
   "outputs": [],
   "source": [
    "db('DROP TABLE IF EXISTS temp_pop_actors')\n",
    "db('''\n",
    "CREATE TEMPORARY TABLE temp_pop_actors\n",
    "    SELECT first_name, last_name, actor_id FROM\n",
    "        actor\n",
    "        INNER JOIN film_actor USING (actor_id)\n",
    "    GROUP BY \n",
    "        actor_id\n",
    "    ORDER BY \n",
    "        COUNT(film_id) DESC\n",
    "    LIMIT 3\n",
    "''')\n",
    "db('''\n",
    "SELECT * from temp_pop_actors\n",
    "''')"
   ]
  },
  {
   "cell_type": "markdown",
   "metadata": {},
   "source": [
    "Por fim, vamos usar essa informação para listar os filmes dos atores populares:"
   ]
  },
  {
   "cell_type": "code",
   "execution_count": null,
   "metadata": {},
   "outputs": [],
   "source": [
    "db('''\n",
    "SELECT DISTINCT\n",
    "    title\n",
    "FROM\n",
    "    film\n",
    "    INNER JOIN film_actor USING (film_id)\n",
    "WHERE\n",
    "    actor_id IN (SELECT actor_id FROM temp_pop_actors);\n",
    "''')"
   ]
  },
  {
   "cell_type": "markdown",
   "metadata": {},
   "source": [
    "Note o uso de *subqueries*!\n",
    "\n",
    "Não se esqueça de limpar tudo no final!"
   ]
  },
  {
   "cell_type": "code",
   "execution_count": null,
   "metadata": {},
   "outputs": [],
   "source": [
    "db('DROP TABLE temp_pop_actors')"
   ]
  },
  {
   "cell_type": "markdown",
   "metadata": {},
   "source": [
    "### Vamos praticar"
   ]
  },
  {
   "cell_type": "markdown",
   "metadata": {},
   "source": [
    "Liste os atores que participaram dos 3 filmes mais rentáveis (aqueles que mais geraram receita para a locadora)."
   ]
  },
  {
   "cell_type": "code",
   "execution_count": null,
   "metadata": {},
   "outputs": [],
   "source": [
    "db('''\n",
    "-- SUA QUERY AQUI!\n",
    "''')"
   ]
  },
  {
   "cell_type": "markdown",
   "metadata": {},
   "source": [
    "## Subqueries"
   ]
  },
  {
   "cell_type": "markdown",
   "metadata": {},
   "source": [
    "Os tópicos discutidos acima poderiam ser resolvidos, em grande parte, com subqueries. As subqueries são queries `SELECT` criadas dentro de outras queries. \n",
    "\n",
    "Poderíamos ter usado subqueries nos mesmos lugares onde usamos tabelas temporárias, nos tópicos acima. Quando a subquery pode ser transformada em uma tabela temporária independente, separada da query exterior, dizemos que a subquery é **não-correlacionada** com a query exterior.\n",
    "\n",
    "Usar subqueries não-correlacionadas é um tópico controverso: podemos sempre usar uma tabela temporária ou, ás vezes, pensar em um `JOIN` simples. Aliás, muitas vezes o otimizador de queries do banco de dados transformará a subquery em `JOIN`, se isso for vantajoso em termos de desempenho.\n",
    "\n",
    "Uma subquery que depende da query externa (e portanto não pode ser separada em uma tabela temporária independente) é chamada de **subquery correlacionada**. Nestes casos podemos ter que executar a subquery para cada linha da query exterior! "
   ]
  },
  {
   "cell_type": "markdown",
   "metadata": {},
   "source": [
    "### Vamos praticar"
   ]
  },
  {
   "cell_type": "markdown",
   "metadata": {},
   "source": [
    "Vamos refazer a atividade dos filmes de atores populares, usando subqueries. \n",
    "\n",
    "Temos um problema: o MySQL não suporta ``LIMIT`` em subqueries com o operador ``IN``. Vamos investigar isso mais de perto. \n",
    "\n",
    "Em primeiro lugar faça uma tradução direta da implementação da atividade anterior trocando tabela temporária por subquery."
   ]
  },
  {
   "cell_type": "code",
   "execution_count": null,
   "metadata": {
    "scrolled": true
   },
   "outputs": [],
   "source": []
  },
  {
   "cell_type": "markdown",
   "metadata": {},
   "source": [
    "Ok, apareceu o problema. Mas considere que o problema original não precisava de IN desde o começo! Construa essa solução."
   ]
  },
  {
   "cell_type": "code",
   "execution_count": null,
   "metadata": {},
   "outputs": [],
   "source": []
  },
  {
   "cell_type": "markdown",
   "metadata": {},
   "source": [
    "# `UNION`\n",
    "\n",
    "Quando duas tabelas tem **EXATAMENTE** as mesmas colunas, podemos concatená-las e formar uma grande tabela unificada usando o operador `UNION`. Por exemplo: suponha que desejamos montar uma lista dos nomes e sobrenomes de todos os clientes E de todos os funcionários. Eis uma solução possível:"
   ]
  },
  {
   "cell_type": "code",
   "execution_count": null,
   "metadata": {},
   "outputs": [],
   "source": [
    "db('DROP TABLE IF EXISTS nomes_clientes')\n",
    "db('''\n",
    "CREATE TEMPORARY TABLE nomes_clientes \n",
    "    SELECT first_name, last_name FROM customer\n",
    "''')"
   ]
  },
  {
   "cell_type": "code",
   "execution_count": null,
   "metadata": {},
   "outputs": [],
   "source": [
    "db('DESCRIBE nomes_clientes')\n",
    "db('SELECT * FROM nomes_clientes LIMIT 5')"
   ]
  },
  {
   "cell_type": "code",
   "execution_count": null,
   "metadata": {},
   "outputs": [],
   "source": [
    "db('DROP TABLE IF EXISTS nomes_staff')\n",
    "db('''\n",
    "CREATE TEMPORARY TABLE nomes_staff \n",
    "    SELECT first_name, last_name FROM staff\n",
    "''')"
   ]
  },
  {
   "cell_type": "code",
   "execution_count": null,
   "metadata": {},
   "outputs": [],
   "source": [
    "db('DESCRIBE nomes_staff')\n",
    "db('SELECT * FROM nomes_staff LIMIT 5')"
   ]
  },
  {
   "cell_type": "code",
   "execution_count": null,
   "metadata": {},
   "outputs": [],
   "source": [
    "db('DROP TABLE IF EXISTS nomes_all')\n",
    "db('''\n",
    "CREATE TEMPORARY TABLE nomes_all \n",
    "    (SELECT * FROM nomes_staff)\n",
    "    UNION \n",
    "    (SELECT * FROM nomes_clientes)\n",
    "''')"
   ]
  },
  {
   "cell_type": "code",
   "execution_count": null,
   "metadata": {},
   "outputs": [],
   "source": [
    "db('DESCRIBE nomes_all')\n",
    "db('SELECT * FROM nomes_all LIMIT 5')"
   ]
  },
  {
   "cell_type": "code",
   "execution_count": null,
   "metadata": {},
   "outputs": [],
   "source": [
    "db('DROP TABLE IF EXISTS nomes_clientes')\n",
    "db('DROP TABLE IF EXISTS nomes_staff')\n",
    "db('DROP TABLE IF EXISTS nomes_all')"
   ]
  },
  {
   "cell_type": "markdown",
   "metadata": {},
   "source": [
    "**Vamos praticar:** refaça o exemplo acima mas use *subqueries* ao invés de *temp tables*."
   ]
  },
  {
   "cell_type": "code",
   "execution_count": null,
   "metadata": {},
   "outputs": [],
   "source": []
  },
  {
   "cell_type": "markdown",
   "metadata": {},
   "source": [
    "## Desafios!"
   ]
  },
  {
   "cell_type": "markdown",
   "metadata": {},
   "source": [
    "Faça uma lista de filmes que tenham mais de dois atores cujo nome inicia com a mesma letra do título do filme!"
   ]
  },
  {
   "cell_type": "code",
   "execution_count": null,
   "metadata": {},
   "outputs": [],
   "source": [
    "db('''\n",
    "-- SUA QUERY AQUI!\n",
    "''')"
   ]
  },
  {
   "cell_type": "markdown",
   "metadata": {},
   "source": [
    "Semana do \"DAN HARRIS\": liste os clientes que nunca assistiram um filme do ator \"DAN HARRIS\" ou que já assistiram mas onde a ultima vez em que assistiram um filme dele foi antes de '2005-06-01'"
   ]
  },
  {
   "cell_type": "code",
   "execution_count": null,
   "metadata": {},
   "outputs": [],
   "source": [
    "db('''\n",
    "-- SUA QUERY AQUI!\n",
    "''')"
   ]
  },
  {
   "cell_type": "markdown",
   "metadata": {},
   "source": [
    "## Conclusão"
   ]
  },
  {
   "cell_type": "markdown",
   "metadata": {},
   "source": [
    "Façamos uma pausa para apreciar quão longe estamos: já conseguimos criar nossas tabelas, inserir informação, removê-la, atualizá-la, e consultar nossa base de maneiras bem sofisticadas! Vimos desde `SELECT` simples até buscas mais complexas envolvendo várias etapas de processamento para obter o dado desejado.\n",
    "\n",
    "Por hoje é só, feche sua conexão e bom descanso!"
   ]
  },
  {
   "cell_type": "code",
   "execution_count": null,
   "metadata": {},
   "outputs": [],
   "source": [
    "connection.close()"
   ]
  },
  {
   "cell_type": "code",
   "execution_count": null,
   "metadata": {},
   "outputs": [],
   "source": []
  }
 ],
 "metadata": {
  "kernelspec": {
   "display_name": "Python 3 (ipykernel)",
   "language": "python",
   "name": "python3"
  },
  "language_info": {
   "codemirror_mode": {
    "name": "ipython",
    "version": 3
   },
   "file_extension": ".py",
   "mimetype": "text/x-python",
   "name": "python",
   "nbconvert_exporter": "python",
   "pygments_lexer": "ipython3",
   "version": "3.9.13"
  }
 },
 "nbformat": 4,
 "nbformat_minor": 4
}
